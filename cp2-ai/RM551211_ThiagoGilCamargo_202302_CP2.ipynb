{
 "cells": [
  {
   "cell_type": "code",
   "execution_count": 4,
   "metadata": {},
   "outputs": [],
   "source": [
    "import numpy as np\n",
    "import pandas as pd\n",
    "import matplotlib.pyplot as plt\n",
    "from sklearn.model_selection import train_test_split, GridSearchCV\n",
    "from sklearn.linear_model import LogisticRegression\n",
    "from sklearn.preprocessing import StandardScaler\n",
    "from sklearn.metrics import accuracy_score, precision_score, recall_score, f1_score, confusion_matrix, classification_report\n",
    "from imblearn.over_sampling import RandomOverSampler"
   ]
  },
  {
   "cell_type": "code",
   "execution_count": 5,
   "metadata": {},
   "outputs": [],
   "source": [
    "#pip install scikit-learn\n",
    "#!pip install imbalanced-learn\n"
   ]
  },
  {
   "cell_type": "code",
   "execution_count": 6,
   "metadata": {},
   "outputs": [],
   "source": [
    "# Carregar o conjunto de dados\n",
    "data = pd.read_csv('WA_Fn-UseC_-Telco-Customer-Churn.csv')"
   ]
  },
  {
   "cell_type": "code",
   "execution_count": 7,
   "metadata": {},
   "outputs": [
    {
     "data": {
      "text/html": [
       "<div>\n",
       "<style scoped>\n",
       "    .dataframe tbody tr th:only-of-type {\n",
       "        vertical-align: middle;\n",
       "    }\n",
       "\n",
       "    .dataframe tbody tr th {\n",
       "        vertical-align: top;\n",
       "    }\n",
       "\n",
       "    .dataframe thead th {\n",
       "        text-align: right;\n",
       "    }\n",
       "</style>\n",
       "<table border=\"1\" class=\"dataframe\">\n",
       "  <thead>\n",
       "    <tr style=\"text-align: right;\">\n",
       "      <th></th>\n",
       "      <th>customerID</th>\n",
       "      <th>gender</th>\n",
       "      <th>SeniorCitizen</th>\n",
       "      <th>Partner</th>\n",
       "      <th>Dependents</th>\n",
       "      <th>tenure</th>\n",
       "      <th>PhoneService</th>\n",
       "      <th>MultipleLines</th>\n",
       "      <th>InternetService</th>\n",
       "      <th>OnlineSecurity</th>\n",
       "      <th>...</th>\n",
       "      <th>DeviceProtection</th>\n",
       "      <th>TechSupport</th>\n",
       "      <th>StreamingTV</th>\n",
       "      <th>StreamingMovies</th>\n",
       "      <th>Contract</th>\n",
       "      <th>PaperlessBilling</th>\n",
       "      <th>PaymentMethod</th>\n",
       "      <th>MonthlyCharges</th>\n",
       "      <th>TotalCharges</th>\n",
       "      <th>Churn</th>\n",
       "    </tr>\n",
       "  </thead>\n",
       "  <tbody>\n",
       "    <tr>\n",
       "      <th>0</th>\n",
       "      <td>7590-VHVEG</td>\n",
       "      <td>Female</td>\n",
       "      <td>0</td>\n",
       "      <td>Yes</td>\n",
       "      <td>No</td>\n",
       "      <td>1</td>\n",
       "      <td>No</td>\n",
       "      <td>No phone service</td>\n",
       "      <td>DSL</td>\n",
       "      <td>No</td>\n",
       "      <td>...</td>\n",
       "      <td>No</td>\n",
       "      <td>No</td>\n",
       "      <td>No</td>\n",
       "      <td>No</td>\n",
       "      <td>Month-to-month</td>\n",
       "      <td>Yes</td>\n",
       "      <td>Electronic check</td>\n",
       "      <td>29.85</td>\n",
       "      <td>29.85</td>\n",
       "      <td>No</td>\n",
       "    </tr>\n",
       "    <tr>\n",
       "      <th>1</th>\n",
       "      <td>5575-GNVDE</td>\n",
       "      <td>Male</td>\n",
       "      <td>0</td>\n",
       "      <td>No</td>\n",
       "      <td>No</td>\n",
       "      <td>34</td>\n",
       "      <td>Yes</td>\n",
       "      <td>No</td>\n",
       "      <td>DSL</td>\n",
       "      <td>Yes</td>\n",
       "      <td>...</td>\n",
       "      <td>Yes</td>\n",
       "      <td>No</td>\n",
       "      <td>No</td>\n",
       "      <td>No</td>\n",
       "      <td>One year</td>\n",
       "      <td>No</td>\n",
       "      <td>Mailed check</td>\n",
       "      <td>56.95</td>\n",
       "      <td>1889.5</td>\n",
       "      <td>No</td>\n",
       "    </tr>\n",
       "    <tr>\n",
       "      <th>2</th>\n",
       "      <td>3668-QPYBK</td>\n",
       "      <td>Male</td>\n",
       "      <td>0</td>\n",
       "      <td>No</td>\n",
       "      <td>No</td>\n",
       "      <td>2</td>\n",
       "      <td>Yes</td>\n",
       "      <td>No</td>\n",
       "      <td>DSL</td>\n",
       "      <td>Yes</td>\n",
       "      <td>...</td>\n",
       "      <td>No</td>\n",
       "      <td>No</td>\n",
       "      <td>No</td>\n",
       "      <td>No</td>\n",
       "      <td>Month-to-month</td>\n",
       "      <td>Yes</td>\n",
       "      <td>Mailed check</td>\n",
       "      <td>53.85</td>\n",
       "      <td>108.15</td>\n",
       "      <td>Yes</td>\n",
       "    </tr>\n",
       "    <tr>\n",
       "      <th>3</th>\n",
       "      <td>7795-CFOCW</td>\n",
       "      <td>Male</td>\n",
       "      <td>0</td>\n",
       "      <td>No</td>\n",
       "      <td>No</td>\n",
       "      <td>45</td>\n",
       "      <td>No</td>\n",
       "      <td>No phone service</td>\n",
       "      <td>DSL</td>\n",
       "      <td>Yes</td>\n",
       "      <td>...</td>\n",
       "      <td>Yes</td>\n",
       "      <td>Yes</td>\n",
       "      <td>No</td>\n",
       "      <td>No</td>\n",
       "      <td>One year</td>\n",
       "      <td>No</td>\n",
       "      <td>Bank transfer (automatic)</td>\n",
       "      <td>42.30</td>\n",
       "      <td>1840.75</td>\n",
       "      <td>No</td>\n",
       "    </tr>\n",
       "    <tr>\n",
       "      <th>4</th>\n",
       "      <td>9237-HQITU</td>\n",
       "      <td>Female</td>\n",
       "      <td>0</td>\n",
       "      <td>No</td>\n",
       "      <td>No</td>\n",
       "      <td>2</td>\n",
       "      <td>Yes</td>\n",
       "      <td>No</td>\n",
       "      <td>Fiber optic</td>\n",
       "      <td>No</td>\n",
       "      <td>...</td>\n",
       "      <td>No</td>\n",
       "      <td>No</td>\n",
       "      <td>No</td>\n",
       "      <td>No</td>\n",
       "      <td>Month-to-month</td>\n",
       "      <td>Yes</td>\n",
       "      <td>Electronic check</td>\n",
       "      <td>70.70</td>\n",
       "      <td>151.65</td>\n",
       "      <td>Yes</td>\n",
       "    </tr>\n",
       "  </tbody>\n",
       "</table>\n",
       "<p>5 rows × 21 columns</p>\n",
       "</div>"
      ],
      "text/plain": [
       "   customerID  gender  SeniorCitizen Partner Dependents  tenure PhoneService   \n",
       "0  7590-VHVEG  Female              0     Yes         No       1           No  \\\n",
       "1  5575-GNVDE    Male              0      No         No      34          Yes   \n",
       "2  3668-QPYBK    Male              0      No         No       2          Yes   \n",
       "3  7795-CFOCW    Male              0      No         No      45           No   \n",
       "4  9237-HQITU  Female              0      No         No       2          Yes   \n",
       "\n",
       "      MultipleLines InternetService OnlineSecurity  ... DeviceProtection   \n",
       "0  No phone service             DSL             No  ...               No  \\\n",
       "1                No             DSL            Yes  ...              Yes   \n",
       "2                No             DSL            Yes  ...               No   \n",
       "3  No phone service             DSL            Yes  ...              Yes   \n",
       "4                No     Fiber optic             No  ...               No   \n",
       "\n",
       "  TechSupport StreamingTV StreamingMovies        Contract PaperlessBilling   \n",
       "0          No          No              No  Month-to-month              Yes  \\\n",
       "1          No          No              No        One year               No   \n",
       "2          No          No              No  Month-to-month              Yes   \n",
       "3         Yes          No              No        One year               No   \n",
       "4          No          No              No  Month-to-month              Yes   \n",
       "\n",
       "               PaymentMethod MonthlyCharges  TotalCharges Churn  \n",
       "0           Electronic check          29.85         29.85    No  \n",
       "1               Mailed check          56.95        1889.5    No  \n",
       "2               Mailed check          53.85        108.15   Yes  \n",
       "3  Bank transfer (automatic)          42.30       1840.75    No  \n",
       "4           Electronic check          70.70        151.65   Yes  \n",
       "\n",
       "[5 rows x 21 columns]"
      ]
     },
     "metadata": {},
     "output_type": "display_data"
    },
    {
     "name": "stdout",
     "output_type": "stream",
     "text": [
      "Informações sobre o Conjunto de Dados:\n",
      "\n",
      "Origem: Empresa XYZ Telecom\n",
      "\n",
      "Nome: Telco Customer Churn\n",
      "\n",
      "Tamanho: 176 KB\n",
      "\n",
      "Quantidade de Registros: Existem 7043 registros no conjunto de dados, representando clientes da empresa.\n",
      "\n",
      "Linhas x Colunas: O conjunto de dados possui 7043 linhas x 21 colunas.\n",
      "\n",
      "Link para o Conjunto de Dados: https://www.kaggle.com/datasets/blastchar/telco-customer-churn\n",
      "\n",
      "Dados Faltantes: customerID          0\n",
      "gender              0\n",
      "SeniorCitizen       0\n",
      "Partner             0\n",
      "Dependents          0\n",
      "tenure              0\n",
      "PhoneService        0\n",
      "MultipleLines       0\n",
      "InternetService     0\n",
      "OnlineSecurity      0\n",
      "OnlineBackup        0\n",
      "DeviceProtection    0\n",
      "TechSupport         0\n",
      "StreamingTV         0\n",
      "StreamingMovies     0\n",
      "Contract            0\n",
      "PaperlessBilling    0\n",
      "PaymentMethod       0\n",
      "MonthlyCharges      0\n",
      "TotalCharges        0\n",
      "Churn               0\n",
      "dtype: int64\n",
      "\n",
      "Pré-processamento:\n",
      "- Criação de uma variável binária para representar o churn, com base em algum limiar específico.\n",
      "- Normalização das variáveis numéricas \n",
      "- One-Hot Encoding das variáveis categóricas \n",
      "\n",
      "\n",
      "Justificativa: O Modelo 1 foi escolhido devido ao seu bom desempenho em termos de acurácia e precisão. A alta acurácia é crucial para a empresa de telecomunicações na identificação de clientes propensos a cancelar seus serviços, enquanto a alta precisão ajuda a reduzir falsos positivos, o que pode economizar recursos da empresa.\n",
      "\n"
     ]
    }
   ],
   "source": [
    "# Exibir as primeiras 5 linhas do conjunto de dados de forma mais legível\n",
    "display(data.head())\n",
    "\n",
    "# Informações sobre o conjunto de dados\n",
    "origem = \"Empresa XYZ Telecom\"\n",
    "nome = \"Telco Customer Churn\"\n",
    "tamanho = data.shape\n",
    "quantidade_registros = data.shape[0]\n",
    "linhas_colunas = f\"{data.shape[0]} linhas x {data.shape[1]} colunas\"\n",
    "\n",
    "# Verificar dados faltantes\n",
    "dados_faltantes = data.isnull().sum()\n",
    "# Tratar valores faltantes na coluna 'TotalCharges'\n",
    "data['TotalCharges'] = pd.to_numeric(data['TotalCharges'], errors='coerce')\n",
    "data['TotalCharges'] = data['TotalCharges'].fillna(0)\n",
    "dados_faltantes_tratados = data.isnull().sum()\n",
    "\n",
    "# Informações adicionais\n",
    "conjunto_dados_link = \"https://www.kaggle.com/datasets/blastchar/telco-customer-churn\"\n",
    "preprocessamento_info = \"\"\"\n",
    "Pré-processamento:\n",
    "- Criação de uma variável binária para representar o churn, com base em algum limiar específico.\n",
    "- Normalização das variáveis numéricas \n",
    "- One-Hot Encoding das variáveis categóricas \n",
    "\"\"\"\n",
    "\n",
    "\n",
    "\n",
    "justificativa_modelo = \"\"\"\n",
    "Justificativa: O Modelo 1 foi escolhido devido ao seu bom desempenho em termos de acurácia e precisão. A alta acurácia é crucial para a empresa de telecomunicações na identificação de clientes propensos a cancelar seus serviços, enquanto a alta precisão ajuda a reduzir falsos positivos, o que pode economizar recursos da empresa.\n",
    "\"\"\"\n",
    "\n",
    "print(\"Informações sobre o Conjunto de Dados:\")\n",
    "print(f\"\\nOrigem: {origem}\\n\"\n",
    "      f\"\\nNome: {nome}\\n\"\n",
    "      f\"\\nTamanho: 176 KB\\n\"\n",
    "      f\"\\nQuantidade de Registros: Existem {quantidade_registros} registros no conjunto de dados, representando clientes da empresa.\\n\"\n",
    "      f\"\\nLinhas x Colunas: O conjunto de dados possui {linhas_colunas}.\\n\"\n",
    "      f\"\\nLink para o Conjunto de Dados: {conjunto_dados_link}\\n\"\n",
    "      f\"\\nDados Faltantes: {dados_faltantes_tratados}\\n\"\n",
    "      f\"{preprocessamento_info}\\n\"\n",
    "     \n",
    "      f\"{justificativa_modelo}\")"
   ]
  },
  {
   "cell_type": "code",
   "execution_count": 8,
   "metadata": {},
   "outputs": [],
   "source": [
    "# Criação de uma variável binária para representar o churn\n",
    "data['Churn'] = data['Churn'].map({'No': 0, 'Yes': 1})"
   ]
  },
  {
   "cell_type": "code",
   "execution_count": 9,
   "metadata": {},
   "outputs": [],
   "source": [
    "\n",
    "selected_columns = ['tenure', 'MonthlyCharges', 'TotalCharges', 'gender', 'SeniorCitizen', 'Partner', 'Dependents',\n",
    "                    'PhoneService', 'MultipleLines', 'InternetService', 'OnlineSecurity', 'OnlineBackup',\n",
    "                    'DeviceProtection', 'TechSupport', 'StreamingTV', 'StreamingMovies', 'Contract', 'PaperlessBilling',\n",
    "                    'PaymentMethod']\n",
    "\n"
   ]
  },
  {
   "cell_type": "code",
   "execution_count": 10,
   "metadata": {},
   "outputs": [],
   "source": [
    "# Preencher os valores ausentes em 'TotalCharges' com zero\n",
    "data['TotalCharges'] = pd.to_numeric(data['TotalCharges'], errors='coerce')\n",
    "data['TotalCharges'] = data['TotalCharges'].fillna(0)"
   ]
  },
  {
   "cell_type": "code",
   "execution_count": 11,
   "metadata": {},
   "outputs": [],
   "source": [
    "# Separar as variáveis independentes (X) e a variável de destino (y)\n",
    "X = data.drop('Churn', axis=1)\n",
    "y = data['Churn']"
   ]
  },
  {
   "cell_type": "code",
   "execution_count": 12,
   "metadata": {},
   "outputs": [],
   "source": [
    "# Realizar o One-Hot Encoding para as variáveis categóricas\n",
    "X = pd.get_dummies(X)"
   ]
  },
  {
   "cell_type": "code",
   "execution_count": 13,
   "metadata": {},
   "outputs": [],
   "source": [
    "# Dividir o conjunto de dados em treinamento e teste\n",
    "X_train, X_test, y_train, y_test = train_test_split(X, y, test_size=0.2, random_state=42)\n",
    "\n"
   ]
  },
  {
   "cell_type": "code",
   "execution_count": 14,
   "metadata": {},
   "outputs": [],
   "source": [
    "# Normalização das variáveis numéricas\n",
    "scaler = StandardScaler()\n",
    "numeric_cols = ['tenure', 'MonthlyCharges', 'TotalCharges']\n",
    "X_train[numeric_cols] = scaler.fit_transform(X_train[numeric_cols])\n",
    "X_test[numeric_cols] = scaler.transform(X_test[numeric_cols])\n"
   ]
  },
  {
   "cell_type": "code",
   "execution_count": 15,
   "metadata": {},
   "outputs": [
    {
     "data": {
      "text/html": [
       "<style>#sk-container-id-1 {color: black;}#sk-container-id-1 pre{padding: 0;}#sk-container-id-1 div.sk-toggleable {background-color: white;}#sk-container-id-1 label.sk-toggleable__label {cursor: pointer;display: block;width: 100%;margin-bottom: 0;padding: 0.3em;box-sizing: border-box;text-align: center;}#sk-container-id-1 label.sk-toggleable__label-arrow:before {content: \"▸\";float: left;margin-right: 0.25em;color: #696969;}#sk-container-id-1 label.sk-toggleable__label-arrow:hover:before {color: black;}#sk-container-id-1 div.sk-estimator:hover label.sk-toggleable__label-arrow:before {color: black;}#sk-container-id-1 div.sk-toggleable__content {max-height: 0;max-width: 0;overflow: hidden;text-align: left;background-color: #f0f8ff;}#sk-container-id-1 div.sk-toggleable__content pre {margin: 0.2em;color: black;border-radius: 0.25em;background-color: #f0f8ff;}#sk-container-id-1 input.sk-toggleable__control:checked~div.sk-toggleable__content {max-height: 200px;max-width: 100%;overflow: auto;}#sk-container-id-1 input.sk-toggleable__control:checked~label.sk-toggleable__label-arrow:before {content: \"▾\";}#sk-container-id-1 div.sk-estimator input.sk-toggleable__control:checked~label.sk-toggleable__label {background-color: #d4ebff;}#sk-container-id-1 div.sk-label input.sk-toggleable__control:checked~label.sk-toggleable__label {background-color: #d4ebff;}#sk-container-id-1 input.sk-hidden--visually {border: 0;clip: rect(1px 1px 1px 1px);clip: rect(1px, 1px, 1px, 1px);height: 1px;margin: -1px;overflow: hidden;padding: 0;position: absolute;width: 1px;}#sk-container-id-1 div.sk-estimator {font-family: monospace;background-color: #f0f8ff;border: 1px dotted black;border-radius: 0.25em;box-sizing: border-box;margin-bottom: 0.5em;}#sk-container-id-1 div.sk-estimator:hover {background-color: #d4ebff;}#sk-container-id-1 div.sk-parallel-item::after {content: \"\";width: 100%;border-bottom: 1px solid gray;flex-grow: 1;}#sk-container-id-1 div.sk-label:hover label.sk-toggleable__label {background-color: #d4ebff;}#sk-container-id-1 div.sk-serial::before {content: \"\";position: absolute;border-left: 1px solid gray;box-sizing: border-box;top: 0;bottom: 0;left: 50%;z-index: 0;}#sk-container-id-1 div.sk-serial {display: flex;flex-direction: column;align-items: center;background-color: white;padding-right: 0.2em;padding-left: 0.2em;position: relative;}#sk-container-id-1 div.sk-item {position: relative;z-index: 1;}#sk-container-id-1 div.sk-parallel {display: flex;align-items: stretch;justify-content: center;background-color: white;position: relative;}#sk-container-id-1 div.sk-item::before, #sk-container-id-1 div.sk-parallel-item::before {content: \"\";position: absolute;border-left: 1px solid gray;box-sizing: border-box;top: 0;bottom: 0;left: 50%;z-index: -1;}#sk-container-id-1 div.sk-parallel-item {display: flex;flex-direction: column;z-index: 1;position: relative;background-color: white;}#sk-container-id-1 div.sk-parallel-item:first-child::after {align-self: flex-end;width: 50%;}#sk-container-id-1 div.sk-parallel-item:last-child::after {align-self: flex-start;width: 50%;}#sk-container-id-1 div.sk-parallel-item:only-child::after {width: 0;}#sk-container-id-1 div.sk-dashed-wrapped {border: 1px dashed gray;margin: 0 0.4em 0.5em 0.4em;box-sizing: border-box;padding-bottom: 0.4em;background-color: white;}#sk-container-id-1 div.sk-label label {font-family: monospace;font-weight: bold;display: inline-block;line-height: 1.2em;}#sk-container-id-1 div.sk-label-container {text-align: center;}#sk-container-id-1 div.sk-container {/* jupyter's `normalize.less` sets `[hidden] { display: none; }` but bootstrap.min.css set `[hidden] { display: none !important; }` so we also need the `!important` here to be able to override the default hidden behavior on the sphinx rendered scikit-learn.org. See: https://github.com/scikit-learn/scikit-learn/issues/21755 */display: inline-block !important;position: relative;}#sk-container-id-1 div.sk-text-repr-fallback {display: none;}</style><div id=\"sk-container-id-1\" class=\"sk-top-container\"><div class=\"sk-text-repr-fallback\"><pre>LogisticRegression(max_iter=10000)</pre><b>In a Jupyter environment, please rerun this cell to show the HTML representation or trust the notebook. <br />On GitHub, the HTML representation is unable to render, please try loading this page with nbviewer.org.</b></div><div class=\"sk-container\" hidden><div class=\"sk-item\"><div class=\"sk-estimator sk-toggleable\"><input class=\"sk-toggleable__control sk-hidden--visually\" id=\"sk-estimator-id-1\" type=\"checkbox\" checked><label for=\"sk-estimator-id-1\" class=\"sk-toggleable__label sk-toggleable__label-arrow\">LogisticRegression</label><div class=\"sk-toggleable__content\"><pre>LogisticRegression(max_iter=10000)</pre></div></div></div></div></div>"
      ],
      "text/plain": [
       "LogisticRegression(max_iter=10000)"
      ]
     },
     "execution_count": 15,
     "metadata": {},
     "output_type": "execute_result"
    }
   ],
   "source": [
    "# Construir o modelo\n",
    "model = LogisticRegression(max_iter=10000)\n",
    "model.fit(X_train, y_train)\n"
   ]
  },
  {
   "cell_type": "code",
   "execution_count": 16,
   "metadata": {},
   "outputs": [],
   "source": [
    "# Realizar previsões no conjunto de teste\n",
    "y_pred = model.predict(X_test)"
   ]
  },
  {
   "cell_type": "code",
   "execution_count": 17,
   "metadata": {},
   "outputs": [],
   "source": [
    "# Calcular as métricas\n",
    "accuracy = accuracy_score(y_test, y_pred)\n",
    "precision = precision_score(y_test, y_pred)\n",
    "recall = recall_score(y_test, y_pred)\n",
    "f1 = f1_score(y_test, y_pred)\n",
    "confusion = confusion_matrix(y_test, y_pred)\n",
    "classification = classification_report(y_test, y_pred)"
   ]
  },
  {
   "cell_type": "code",
   "execution_count": 18,
   "metadata": {},
   "outputs": [
    {
     "name": "stdout",
     "output_type": "stream",
     "text": [
      "Acurácia: 0.8218594748048261\n",
      "Precisão: 0.6871165644171779\n",
      "Recall: 0.6005361930294906\n",
      "F1-Score: 0.6409155937052933\n",
      "\n",
      "Acurácia: A acurácia é a proporção de previsões corretas em relação ao total de previsões. No nosso caso, a acurácia é de aproximadamente 0.8219, o que significa que o modelo acertou cerca de 82.19% das previsões. Quanto mais próximo de 1, melhor.\n",
      "\n",
      "Precisão: A precisão é a proporção de verdadeiros positivos (Churn previsto corretamente) em relação ao total de Churns previstos como positivos. Neste caso, a precisão é de aproximadamente 0.6871. Isso significa que 68.71% das vezes em que o modelo previu 'Churn', ele estava correto. Quanto maior, menos falsos positivos.\n",
      "\n",
      "Recall: O recall é a proporção de verdadeiros positivos em relação ao total de Churns reais. Neste caso, o recall é de aproximadamente 0.6005. Isso significa que o modelo identificou corretamente 60.05% dos casos reais de 'Churn'. Quanto maior, menos falsos negativos.\n",
      "\n",
      "F1-Score: O F1-Score é a média harmônica entre precisão e recall. Neste caso, o F1-Score é de aproximadamente 0.6409. Esta métrica considera tanto os falsos positivos quanto os falsos negativos, sendo útil para encontrar um equilíbrio entre precisão e recall.\n"
     ]
    }
   ],
   "source": [
    "# Apresentar as métricas\n",
    "print(\"Acurácia:\", accuracy)\n",
    "print(\"Precisão:\", precision)\n",
    "print(\"Recall:\", recall)\n",
    "print(\"F1-Score:\", f1)\n",
    "\n",
    "# Explicação e Análise das Métricas de Avaliação\n",
    "print(\"\\nAcurácia: A acurácia é a proporção de previsões corretas em relação ao total de previsões. No nosso caso, a acurácia é de aproximadamente 0.8219, o que significa que o modelo acertou cerca de 82.19% das previsões. Quanto mais próximo de 1, melhor.\")\n",
    "\n",
    "print(\"\\nPrecisão: A precisão é a proporção de verdadeiros positivos (Churn previsto corretamente) em relação ao total de Churns previstos como positivos. Neste caso, a precisão é de aproximadamente 0.6871. Isso significa que 68.71% das vezes em que o modelo previu 'Churn', ele estava correto. Quanto maior, menos falsos positivos.\")\n",
    "\n",
    "print(\"\\nRecall: O recall é a proporção de verdadeiros positivos em relação ao total de Churns reais. Neste caso, o recall é de aproximadamente 0.6005. Isso significa que o modelo identificou corretamente 60.05% dos casos reais de 'Churn'. Quanto maior, menos falsos negativos.\")\n",
    "\n",
    "print(\"\\nF1-Score: O F1-Score é a média harmônica entre precisão e recall. Neste caso, o F1-Score é de aproximadamente 0.6409. Esta métrica considera tanto os falsos positivos quanto os falsos negativos, sendo útil para encontrar um equilíbrio entre precisão e recall.\")\n"
   ]
  },
  {
   "cell_type": "code",
   "execution_count": 19,
   "metadata": {},
   "outputs": [
    {
     "data": {
      "image/png": "[encoded data removed]",
      "text/plain": [
       "<Figure size 800x600 with 2 Axes>"
      ]
     },
     "metadata": {},
     "output_type": "display_data"
    },
    {
     "name": "stdout",
     "output_type": "stream",
     "text": [
      "Matriz de Confusão:\n",
      "Previsto Não Churn (VN): 934 casos - Número de casos em que o modelo previu corretamente 'Não Churn'.\n",
      "Previsto Churn (FP): 102 casos - Número de casos em que o modelo previu incorretamente 'Churn' quando era 'Não Churn'.\n",
      "Real Não Churn (VP): 149 casos - Número de casos reais de 'Não Churn' que foram previstos incorretamente como 'Churn'.\n",
      "Real Churn (FN): 224 casos - Número de casos reais de 'Churn' que foram previstos corretamente.\n"
     ]
    }
   ],
   "source": [
    "# Plotar a matriz de confusão\n",
    "plt.figure(figsize=(8, 6))\n",
    "plt.imshow(confusion, interpolation='nearest', cmap=plt.cm.Blues)\n",
    "plt.title(\"Matriz de Confusão\")\n",
    "plt.colorbar()\n",
    "plt.xticks([0, 1], [\"Previsto Não Churn\", \"Previsto Churn\"])\n",
    "plt.yticks([0, 1], [\"Real Não Churn\", \"Real Churn\"])\n",
    "plt.xlabel(\"Predições\")\n",
    "plt.ylabel(\"Real\")\n",
    "plt.show()\n",
    "\n",
    "# Explicação e Análise dos Resultados da Matriz de Confusão\n",
    "print(\"Matriz de Confusão:\")\n",
    "print(\"Previsto Não Churn (VN):\", confusion[0, 0], \"casos - Número de casos em que o modelo previu corretamente 'Não Churn'.\")\n",
    "print(\"Previsto Churn (FP):\", confusion[0, 1], \"casos - Número de casos em que o modelo previu incorretamente 'Churn' quando era 'Não Churn'.\")\n",
    "print(\"Real Não Churn (VP):\", confusion[1, 0], \"casos - Número de casos reais de 'Não Churn' que foram previstos incorretamente como 'Churn'.\")\n",
    "print(\"Real Churn (FN):\", confusion[1, 1], \"casos - Número de casos reais de 'Churn' que foram previstos corretamente.\")\n",
    "\n"
   ]
  },
  {
   "cell_type": "code",
   "execution_count": 20,
   "metadata": {},
   "outputs": [
    {
     "name": "stdout",
     "output_type": "stream",
     "text": [
      "\n",
      "Relatório de Classificação:\n",
      "\n",
      "              precision    recall  f1-score   support\n",
      "\n",
      "           0       0.86      0.90      0.88      1036\n",
      "           1       0.69      0.60      0.64       373\n",
      "\n",
      "    accuracy                           0.82      1409\n",
      "   macro avg       0.77      0.75      0.76      1409\n",
      "weighted avg       0.82      0.82      0.82      1409\n",
      "\n",
      "O relatório de classificação fornece métricas detalhadas para avaliar o desempenho do modelo na previsão de Churn (cancelamento) e Não Churn.\n",
      "\n",
      "Precisão (Precision): A precisão mede a proporção de previsões corretas de Churn (classe 1) em relação ao total de previsões de Churn (Churn previsto). Uma precisão de aproximadamente 0.69 indica que 69% das previsões de Churn estão corretas, o que é importante para evitar falsos alarmes de Churn.\n",
      "\n",
      "Recall: O recall, também conhecido como Sensibilidade, mede a proporção de previsões corretas de Churn em relação ao total de Churns reais. Um recall de aproximadamente 0.60 indica que o modelo identifica 60% dos Churns reais, o que é crucial para não perder clientes propensos a Churn.\n",
      "\n",
      "F1-Score: O F1-Score é a média harmônica entre precisão e recall. Com um valor de aproximadamente 0.64, essa métrica equilibra a importância de evitar falsos positivos e falsos negativos, sendo útil para manter um equilíbrio entre precisão e cobertura.\n",
      "\n",
      "Resumo do Relatório:\n",
      "Acurácia (Accuracy): A acurácia do modelo é de aproximadamente 0.82, o que significa que cerca de 82% das previsões estão corretas em geral. O modelo apresenta um bom desempenho na previsão de Churn e Não Churn, com uma acurácia satisfatória.\n"
     ]
    }
   ],
   "source": [
    "# Apresentar o relatório de classificação\n",
    "print(\"\\nRelatório de Classificação:\\n\")\n",
    "print(classification)\n",
    "\n",
    "# Explicação e Análise do Relatório de Classificação\n",
    "print(\"O relatório de classificação fornece métricas detalhadas para avaliar o desempenho do modelo na previsão de Churn (cancelamento) e Não Churn.\")\n",
    "\n",
    "print(\"\\nPrecisão (Precision): A precisão mede a proporção de previsões corretas de Churn (classe 1) em relação ao total de previsões de Churn (Churn previsto). Uma precisão de aproximadamente 0.69 indica que 69% das previsões de Churn estão corretas, o que é importante para evitar falsos alarmes de Churn.\")\n",
    "\n",
    "print(\"\\nRecall: O recall, também conhecido como Sensibilidade, mede a proporção de previsões corretas de Churn em relação ao total de Churns reais. Um recall de aproximadamente 0.60 indica que o modelo identifica 60% dos Churns reais, o que é crucial para não perder clientes propensos a Churn.\")\n",
    "\n",
    "print(\"\\nF1-Score: O F1-Score é a média harmônica entre precisão e recall. Com um valor de aproximadamente 0.64, essa métrica equilibra a importância de evitar falsos positivos e falsos negativos, sendo útil para manter um equilíbrio entre precisão e cobertura.\")\n",
    "\n",
    "print(\"\\nResumo do Relatório:\")\n",
    "print(\"Acurácia (Accuracy): A acurácia do modelo é de aproximadamente 0.82, o que significa que cerca de 82% das previsões estão corretas em geral. O modelo apresenta um bom desempenho na previsão de Churn e Não Churn, com uma acurácia satisfatória.\")\n"
   ]
  },
  {
   "cell_type": "code",
   "execution_count": 21,
   "metadata": {},
   "outputs": [
    {
     "name": "stdout",
     "output_type": "stream",
     "text": [
      "\n",
      "Conclusão Geral:\n",
      "Com base nas métricas de avaliação, o modelo demonstrou um desempenho satisfatório na previsão de Churn em uma empresa de telecomunicações. A acurácia de 82% indica que o modelo é capaz de fazer previsões precisas na maioria dos casos. Além disso, a precisão de 68% sugere que a maioria das previsões de Churn está correta, minimizando falsos positivos.\n",
      "\n",
      "O recall para a classe 'Churn' é de cerca de 60%, o que significa que o modelo é capaz de identificar 60% dos clientes que realmente cancelarão o serviço. Embora haja espaço para aprimoramento, essa capacidade de identificação é fundamental para a empresa adotar medidas proativas e reter clientes em risco de churn.\n",
      "\n",
      "No geral, o modelo representa um passo importante na identificação de clientes propensos a churn, fornecendo à empresa a oportunidade de adotar medidas estratégicas para melhorar a satisfação do cliente e a retenção. É importante considerar que melhorias contínuas no modelo e análises mais aprofundadas dos resultados podem levar a previsões ainda mais precisas no futuro.\n",
      "\n",
      "Essa abordagem direcionada garante resultados confiáveis e sólidos, destacando a importância da seleção adequada de modelos de machine learning para aplicações específicas.\n",
      "\n"
     ]
    }
   ],
   "source": [
    "# Conclusão Geral\n",
    "conclusao = \"\"\"\n",
    "Conclusão Geral:\n",
    "Com base nas métricas de avaliação, o modelo demonstrou um desempenho satisfatório na previsão de Churn em uma empresa de telecomunicações. A acurácia de 82% indica que o modelo é capaz de fazer previsões precisas na maioria dos casos. Além disso, a precisão de 68% sugere que a maioria das previsões de Churn está correta, minimizando falsos positivos.\n",
    "\n",
    "O recall para a classe 'Churn' é de cerca de 60%, o que significa que o modelo é capaz de identificar 60% dos clientes que realmente cancelarão o serviço. Embora haja espaço para aprimoramento, essa capacidade de identificação é fundamental para a empresa adotar medidas proativas e reter clientes em risco de churn.\n",
    "\n",
    "No geral, o modelo representa um passo importante na identificação de clientes propensos a churn, fornecendo à empresa a oportunidade de adotar medidas estratégicas para melhorar a satisfação do cliente e a retenção. É importante considerar que melhorias contínuas no modelo e análises mais aprofundadas dos resultados podem levar a previsões ainda mais precisas no futuro.\n",
    "\n",
    "Essa abordagem direcionada garante resultados confiáveis e sólidos, destacando a importância da seleção adequada de modelos de machine learning para aplicações específicas.\n",
    "\"\"\"\n",
    "print(conclusao)"
   ]
  },
  {
   "cell_type": "code",
   "execution_count": 22,
   "metadata": {},
   "outputs": [],
   "source": [
    "import pandas as pd\n",
    "import numpy as np\n",
    "from sklearn.model_selection import train_test_split\n",
    "from sklearn.ensemble import GradientBoostingClassifier\n",
    "from sklearn.metrics import accuracy_score, precision_score, recall_score, f1_score, classification_report, confusion_matrix\n",
    "import matplotlib.pyplot as plt\n",
    "import seaborn as sns"
   ]
  },
  {
   "cell_type": "code",
   "execution_count": 23,
   "metadata": {},
   "outputs": [
    {
     "name": "stdout",
     "output_type": "stream",
     "text": [
      "Descrição do Conjunto de Dados:\n",
      "\n",
      "Origem: Kaggle - Titanic: Machine Learning from Disaster - https://www.kaggle.com/c/titanic\n",
      "\n",
      "Nome: Titanic: Machine Learning from Disaster\n",
      "\n",
      "Tamanho (Treinamento): 163 KB (train.csv), 82.3 KB (test.csv)\n",
      "\n",
      "Quantidade de Registros (Treinamento): 891\n",
      "\n",
      "Quantidade de Registros (Teste): 418\n",
      "\n",
      "Colunas: 12\n",
      "\n",
      "Dados Faltantes (Treinamento): Total de 866 dados faltantes.\n",
      "\n",
      "Dados Faltantes (Teste): Total de 414 dados faltantes.\n"
     ]
    },
    {
     "data": {
      "text/html": [
       "<div>\n",
       "<style scoped>\n",
       "    .dataframe tbody tr th:only-of-type {\n",
       "        vertical-align: middle;\n",
       "    }\n",
       "\n",
       "    .dataframe tbody tr th {\n",
       "        vertical-align: top;\n",
       "    }\n",
       "\n",
       "    .dataframe thead th {\n",
       "        text-align: right;\n",
       "    }\n",
       "</style>\n",
       "<table border=\"1\" class=\"dataframe\">\n",
       "  <thead>\n",
       "    <tr style=\"text-align: right;\">\n",
       "      <th></th>\n",
       "      <th>PassengerId</th>\n",
       "      <th>Survived</th>\n",
       "      <th>Pclass</th>\n",
       "      <th>Name</th>\n",
       "      <th>Sex</th>\n",
       "      <th>Age</th>\n",
       "      <th>SibSp</th>\n",
       "      <th>Parch</th>\n",
       "      <th>Ticket</th>\n",
       "      <th>Fare</th>\n",
       "      <th>Cabin</th>\n",
       "      <th>Embarked</th>\n",
       "    </tr>\n",
       "  </thead>\n",
       "  <tbody>\n",
       "    <tr>\n",
       "      <th>0</th>\n",
       "      <td>1</td>\n",
       "      <td>0</td>\n",
       "      <td>3</td>\n",
       "      <td>Braund, Mr. Owen Harris</td>\n",
       "      <td>male</td>\n",
       "      <td>22.0</td>\n",
       "      <td>1</td>\n",
       "      <td>0</td>\n",
       "      <td>A/5 21171</td>\n",
       "      <td>7.2500</td>\n",
       "      <td>NaN</td>\n",
       "      <td>S</td>\n",
       "    </tr>\n",
       "    <tr>\n",
       "      <th>1</th>\n",
       "      <td>2</td>\n",
       "      <td>1</td>\n",
       "      <td>1</td>\n",
       "      <td>Cumings, Mrs. John Bradley (Florence Briggs Th...</td>\n",
       "      <td>female</td>\n",
       "      <td>38.0</td>\n",
       "      <td>1</td>\n",
       "      <td>0</td>\n",
       "      <td>PC 17599</td>\n",
       "      <td>71.2833</td>\n",
       "      <td>C85</td>\n",
       "      <td>C</td>\n",
       "    </tr>\n",
       "    <tr>\n",
       "      <th>2</th>\n",
       "      <td>3</td>\n",
       "      <td>1</td>\n",
       "      <td>3</td>\n",
       "      <td>Heikkinen, Miss. Laina</td>\n",
       "      <td>female</td>\n",
       "      <td>26.0</td>\n",
       "      <td>0</td>\n",
       "      <td>0</td>\n",
       "      <td>STON/O2. 3101282</td>\n",
       "      <td>7.9250</td>\n",
       "      <td>NaN</td>\n",
       "      <td>S</td>\n",
       "    </tr>\n",
       "    <tr>\n",
       "      <th>3</th>\n",
       "      <td>4</td>\n",
       "      <td>1</td>\n",
       "      <td>1</td>\n",
       "      <td>Futrelle, Mrs. Jacques Heath (Lily May Peel)</td>\n",
       "      <td>female</td>\n",
       "      <td>35.0</td>\n",
       "      <td>1</td>\n",
       "      <td>0</td>\n",
       "      <td>113803</td>\n",
       "      <td>53.1000</td>\n",
       "      <td>C123</td>\n",
       "      <td>S</td>\n",
       "    </tr>\n",
       "    <tr>\n",
       "      <th>4</th>\n",
       "      <td>5</td>\n",
       "      <td>0</td>\n",
       "      <td>3</td>\n",
       "      <td>Allen, Mr. William Henry</td>\n",
       "      <td>male</td>\n",
       "      <td>35.0</td>\n",
       "      <td>0</td>\n",
       "      <td>0</td>\n",
       "      <td>373450</td>\n",
       "      <td>8.0500</td>\n",
       "      <td>NaN</td>\n",
       "      <td>S</td>\n",
       "    </tr>\n",
       "  </tbody>\n",
       "</table>\n",
       "</div>"
      ],
      "text/plain": [
       "   PassengerId  Survived  Pclass   \n",
       "0            1         0       3  \\\n",
       "1            2         1       1   \n",
       "2            3         1       3   \n",
       "3            4         1       1   \n",
       "4            5         0       3   \n",
       "\n",
       "                                                Name     Sex   Age  SibSp   \n",
       "0                            Braund, Mr. Owen Harris    male  22.0      1  \\\n",
       "1  Cumings, Mrs. John Bradley (Florence Briggs Th...  female  38.0      1   \n",
       "2                             Heikkinen, Miss. Laina  female  26.0      0   \n",
       "3       Futrelle, Mrs. Jacques Heath (Lily May Peel)  female  35.0      1   \n",
       "4                           Allen, Mr. William Henry    male  35.0      0   \n",
       "\n",
       "   Parch            Ticket     Fare Cabin Embarked  \n",
       "0      0         A/5 21171   7.2500   NaN        S  \n",
       "1      0          PC 17599  71.2833   C85        C  \n",
       "2      0  STON/O2. 3101282   7.9250   NaN        S  \n",
       "3      0            113803  53.1000  C123        S  \n",
       "4      0            373450   8.0500   NaN        S  "
      ]
     },
     "metadata": {},
     "output_type": "display_data"
    },
    {
     "name": "stdout",
     "output_type": "stream",
     "text": [
      "\n",
      "O conjunto de dados 'Titanic: Machine Learning from Disaster' é um conjunto amplamente conhecido na comunidade de aprendizado de máquina. Ele contém informações sobre passageiros a bordo do RMS Titanic, incluindo detalhes como idade, gênero, classe de passagem e se sobreviveram ou não ao naufrágio. O objetivo é prever se um passageiro sobreviveu ou não com base em seus atributos.\n"
     ]
    }
   ],
   "source": [
    "# Passo 1: Carregar os dados\n",
    "train_data = pd.read_csv(\"train.csv\")\n",
    "test_data = pd.read_csv(\"test.csv\")\n",
    "# Descrição do Conjunto de Dados\n",
    "origem = \"Kaggle - Titanic: Machine Learning from Disaster - https://www.kaggle.com/c/titanic\"\n",
    "nome = \"Titanic: Machine Learning from Disaster\"\n",
    "tamanho = \"163 KB (train.csv), 82.3 KB (test.csv)\"\n",
    "registros_treinamento = len(train_data)\n",
    "registros_teste = len(test_data)\n",
    "colunas = train_data.shape[1]\n",
    "dados_faltantes_treinamento = train_data.isnull().sum().sum()\n",
    "dados_faltantes_teste = test_data.isnull().sum().sum()\n",
    "\n",
    "# Exibição da descrição do conjunto de dados\n",
    "print(\"Descrição do Conjunto de Dados:\")\n",
    "print(\"\\nOrigem:\", origem)\n",
    "print(\"\\nNome:\", nome)\n",
    "print(\"\\nTamanho (Treinamento):\", tamanho)\n",
    "print(\"\\nQuantidade de Registros (Treinamento):\", registros_treinamento)\n",
    "print(\"\\nQuantidade de Registros (Teste):\", registros_teste)\n",
    "print(\"\\nColunas:\", colunas)\n",
    "print(\"\\nDados Faltantes (Treinamento):\", \"Não há dados faltantes.\" if dados_faltantes_treinamento == 0 else f\"Total de {dados_faltantes_treinamento} dados faltantes.\")\n",
    "print(\"\\nDados Faltantes (Teste):\", \"Não há dados faltantes.\" if dados_faltantes_teste == 0 else f\"Total de {dados_faltantes_teste} dados faltantes.\")\n",
    "\n",
    "# Exibir as primeiras 5 linhas do conjunto de dados de treinamento de forma mais legível\n",
    "display(train_data.head())\n",
    "# Breve explicação do conjunto de dados\n",
    "print(\"\\nO conjunto de dados 'Titanic: Machine Learning from Disaster' é um conjunto amplamente conhecido na comunidade de aprendizado de máquina. Ele contém informações sobre passageiros a bordo do RMS Titanic, incluindo detalhes como idade, gênero, classe de passagem e se sobreviveram ou não ao naufrágio. O objetivo é prever se um passageiro sobreviveu ou não com base em seus atributos.\")\n",
    "\n"
   ]
  },
  {
   "cell_type": "code",
   "execution_count": 24,
   "metadata": {},
   "outputs": [],
   "source": [
    "# Passo 2: Pré-processamento dos dados\n",
    "# Preencher valores faltantes de idade com a mediana\n",
    "train_data[\"Age\"].fillna(train_data[\"Age\"].median(), inplace=True)\n",
    "test_data[\"Age\"].fillna(test_data[\"Age\"].median(), inplace=True)"
   ]
  },
  {
   "cell_type": "code",
   "execution_count": 25,
   "metadata": {},
   "outputs": [],
   "source": [
    "# Mapear a coluna \"Sex\" para valores numéricos\n",
    "train_data[\"Sex\"] = train_data[\"Sex\"].map({\"male\": 0, \"female\": 1})\n",
    "test_data[\"Sex\"] = test_data[\"Sex\"].map({\"male\": 0, \"female\": 1})"
   ]
  },
  {
   "cell_type": "code",
   "execution_count": 26,
   "metadata": {},
   "outputs": [],
   "source": [
    "# Passo 3: Dividir o conjunto de treinamento para treinamento e validação\n",
    "features = [\"Pclass\", \"Sex\", \"Age\", \"SibSp\", \"Parch\"]\n",
    "X = train_data[features]\n",
    "y = train_data[\"Survived\"]\n",
    "X_train, X_val, y_train, y_val = train_test_split(X, y, test_size=0.2, random_state=42)\n"
   ]
  },
  {
   "cell_type": "code",
   "execution_count": 27,
   "metadata": {},
   "outputs": [
    {
     "data": {
      "text/html": [
       "<style>#sk-container-id-2 {color: black;}#sk-container-id-2 pre{padding: 0;}#sk-container-id-2 div.sk-toggleable {background-color: white;}#sk-container-id-2 label.sk-toggleable__label {cursor: pointer;display: block;width: 100%;margin-bottom: 0;padding: 0.3em;box-sizing: border-box;text-align: center;}#sk-container-id-2 label.sk-toggleable__label-arrow:before {content: \"▸\";float: left;margin-right: 0.25em;color: #696969;}#sk-container-id-2 label.sk-toggleable__label-arrow:hover:before {color: black;}#sk-container-id-2 div.sk-estimator:hover label.sk-toggleable__label-arrow:before {color: black;}#sk-container-id-2 div.sk-toggleable__content {max-height: 0;max-width: 0;overflow: hidden;text-align: left;background-color: #f0f8ff;}#sk-container-id-2 div.sk-toggleable__content pre {margin: 0.2em;color: black;border-radius: 0.25em;background-color: #f0f8ff;}#sk-container-id-2 input.sk-toggleable__control:checked~div.sk-toggleable__content {max-height: 200px;max-width: 100%;overflow: auto;}#sk-container-id-2 input.sk-toggleable__control:checked~label.sk-toggleable__label-arrow:before {content: \"▾\";}#sk-container-id-2 div.sk-estimator input.sk-toggleable__control:checked~label.sk-toggleable__label {background-color: #d4ebff;}#sk-container-id-2 div.sk-label input.sk-toggleable__control:checked~label.sk-toggleable__label {background-color: #d4ebff;}#sk-container-id-2 input.sk-hidden--visually {border: 0;clip: rect(1px 1px 1px 1px);clip: rect(1px, 1px, 1px, 1px);height: 1px;margin: -1px;overflow: hidden;padding: 0;position: absolute;width: 1px;}#sk-container-id-2 div.sk-estimator {font-family: monospace;background-color: #f0f8ff;border: 1px dotted black;border-radius: 0.25em;box-sizing: border-box;margin-bottom: 0.5em;}#sk-container-id-2 div.sk-estimator:hover {background-color: #d4ebff;}#sk-container-id-2 div.sk-parallel-item::after {content: \"\";width: 100%;border-bottom: 1px solid gray;flex-grow: 1;}#sk-container-id-2 div.sk-label:hover label.sk-toggleable__label {background-color: #d4ebff;}#sk-container-id-2 div.sk-serial::before {content: \"\";position: absolute;border-left: 1px solid gray;box-sizing: border-box;top: 0;bottom: 0;left: 50%;z-index: 0;}#sk-container-id-2 div.sk-serial {display: flex;flex-direction: column;align-items: center;background-color: white;padding-right: 0.2em;padding-left: 0.2em;position: relative;}#sk-container-id-2 div.sk-item {position: relative;z-index: 1;}#sk-container-id-2 div.sk-parallel {display: flex;align-items: stretch;justify-content: center;background-color: white;position: relative;}#sk-container-id-2 div.sk-item::before, #sk-container-id-2 div.sk-parallel-item::before {content: \"\";position: absolute;border-left: 1px solid gray;box-sizing: border-box;top: 0;bottom: 0;left: 50%;z-index: -1;}#sk-container-id-2 div.sk-parallel-item {display: flex;flex-direction: column;z-index: 1;position: relative;background-color: white;}#sk-container-id-2 div.sk-parallel-item:first-child::after {align-self: flex-end;width: 50%;}#sk-container-id-2 div.sk-parallel-item:last-child::after {align-self: flex-start;width: 50%;}#sk-container-id-2 div.sk-parallel-item:only-child::after {width: 0;}#sk-container-id-2 div.sk-dashed-wrapped {border: 1px dashed gray;margin: 0 0.4em 0.5em 0.4em;box-sizing: border-box;padding-bottom: 0.4em;background-color: white;}#sk-container-id-2 div.sk-label label {font-family: monospace;font-weight: bold;display: inline-block;line-height: 1.2em;}#sk-container-id-2 div.sk-label-container {text-align: center;}#sk-container-id-2 div.sk-container {/* jupyter's `normalize.less` sets `[hidden] { display: none; }` but bootstrap.min.css set `[hidden] { display: none !important; }` so we also need the `!important` here to be able to override the default hidden behavior on the sphinx rendered scikit-learn.org. See: https://github.com/scikit-learn/scikit-learn/issues/21755 */display: inline-block !important;position: relative;}#sk-container-id-2 div.sk-text-repr-fallback {display: none;}</style><div id=\"sk-container-id-2\" class=\"sk-top-container\"><div class=\"sk-text-repr-fallback\"><pre>GradientBoostingClassifier(random_state=42)</pre><b>In a Jupyter environment, please rerun this cell to show the HTML representation or trust the notebook. <br />On GitHub, the HTML representation is unable to render, please try loading this page with nbviewer.org.</b></div><div class=\"sk-container\" hidden><div class=\"sk-item\"><div class=\"sk-estimator sk-toggleable\"><input class=\"sk-toggleable__control sk-hidden--visually\" id=\"sk-estimator-id-2\" type=\"checkbox\" checked><label for=\"sk-estimator-id-2\" class=\"sk-toggleable__label sk-toggleable__label-arrow\">GradientBoostingClassifier</label><div class=\"sk-toggleable__content\"><pre>GradientBoostingClassifier(random_state=42)</pre></div></div></div></div></div>"
      ],
      "text/plain": [
       "GradientBoostingClassifier(random_state=42)"
      ]
     },
     "execution_count": 27,
     "metadata": {},
     "output_type": "execute_result"
    }
   ],
   "source": [
    "# Passo 4: Construir e treinar o modelo (usando Gradient Boosting)\n",
    "model = GradientBoostingClassifier(random_state=42)\n",
    "model.fit(X_train, y_train)"
   ]
  },
  {
   "cell_type": "code",
   "execution_count": 28,
   "metadata": {},
   "outputs": [
    {
     "name": "stdout",
     "output_type": "stream",
     "text": [
      "Acurácia: 0.8324022346368715\n",
      "Precisão: 0.8548387096774194\n",
      "Recall: 0.7162162162162162\n",
      "F1-Score: 0.7794117647058824\n"
     ]
    }
   ],
   "source": [
    "# Passo 5: Avaliar o modelo\n",
    "y_pred = model.predict(X_val)\n",
    "accuracy = accuracy_score(y_val, y_pred)\n",
    "precision = precision_score(y_val, y_pred)\n",
    "recall = recall_score(y_val, y_pred)\n",
    "f1 = f1_score(y_val, y_pred)\n",
    "\n",
    "\n",
    "print(\"Acurácia:\", accuracy)\n",
    "print(\"Precisão:\", precision)\n",
    "print(\"Recall:\", recall)\n",
    "print(\"F1-Score:\", f1)\n"
   ]
  },
  {
   "cell_type": "code",
   "execution_count": 29,
   "metadata": {},
   "outputs": [],
   "source": [
    "# Passo 6: Fazer previsões no conjunto de teste\n",
    "X_test = test_data[features]\n",
    "predictions = model.predict(X_test)\n"
   ]
  },
  {
   "cell_type": "code",
   "execution_count": 30,
   "metadata": {},
   "outputs": [],
   "source": [
    "# Passo 7: Preparar arquivo de submissão\n",
    "submission = pd.DataFrame({\n",
    "    \"PassengerId\": test_data[\"PassengerId\"],\n",
    "    \"Survived\": predictions\n",
    "})\n",
    "submission.to_csv(\"submission.csv\", index=False)"
   ]
  },
  {
   "cell_type": "code",
   "execution_count": 31,
   "metadata": {},
   "outputs": [
    {
     "data": {
      "image/png": "[encoded data removed]",
      "text/plain": [
       "<Figure size 1200x1000 with 2 Axes>"
      ]
     },
     "metadata": {},
     "output_type": "display_data"
    },
    {
     "name": "stdout",
     "output_type": "stream",
     "text": [
      "Comentários e Interpretação dos Resultados da Matriz de Correlação:\n",
      "A matriz de correlação visualizada acima mostra a relação entre as variáveis numéricas do conjunto de dados.\n",
      "A intensidade da cor e o valor numérico nas células representam o grau de correlação entre as variáveis.\n",
      "A escala de cores varia de azul (correlação negativa) a vermelho (correlação positiva), com o branco indicando nenhuma correlação.\n"
     ]
    }
   ],
   "source": [
    "# Passo 8: Análise da Correlação\n",
    "numerical_data = train_data.select_dtypes(include=[np.number])\n",
    "correlation_matrix = numerical_data.corr()\n",
    "\n",
    "# Plotar a matriz de correlação\n",
    "plt.figure(figsize=(12, 10))\n",
    "sns.heatmap(correlation_matrix, annot=True, cmap=\"coolwarm\", linewidths=.5)\n",
    "plt.title(\"Matriz de Correlação\")\n",
    "plt.show()\n",
    "\n",
    "# Comentários e Interpretação dos Resultados da Matriz de Correlação:\n",
    "print(\"Comentários e Interpretação dos Resultados da Matriz de Correlação:\")\n",
    "print(\"A matriz de correlação visualizada acima mostra a relação entre as variáveis numéricas do conjunto de dados.\")\n",
    "print(\"A intensidade da cor e o valor numérico nas células representam o grau de correlação entre as variáveis.\")\n",
    "print(\"A escala de cores varia de azul (correlação negativa) a vermelho (correlação positiva), com o branco indicando nenhuma correlação.\")\n",
    "\n",
    "\n"
   ]
  },
  {
   "cell_type": "code",
   "execution_count": 32,
   "metadata": {},
   "outputs": [
    {
     "name": "stdout",
     "output_type": "stream",
     "text": [
      "\n",
      "Correlações Fortes Positivas:\n",
      "             PassengerId  Survived  Pclass  Sex  Age  SibSp  Parch  Fare\n",
      "PassengerId          1.0       NaN     NaN  NaN  NaN    NaN    NaN   NaN\n",
      "Survived             NaN       1.0     NaN  NaN  NaN    NaN    NaN   NaN\n",
      "Pclass               NaN       NaN     1.0  NaN  NaN    NaN    NaN   NaN\n",
      "Sex                  NaN       NaN     NaN  1.0  NaN    NaN    NaN   NaN\n",
      "Age                  NaN       NaN     NaN  NaN  1.0    NaN    NaN   NaN\n",
      "SibSp                NaN       NaN     NaN  NaN  NaN    1.0    NaN   NaN\n",
      "Parch                NaN       NaN     NaN  NaN  NaN    NaN    1.0   NaN\n",
      "Fare                 NaN       NaN     NaN  NaN  NaN    NaN    NaN   1.0\n",
      "\n",
      "Correlações Fortes Negativas:\n",
      "             PassengerId  Survived  Pclass  Sex  Age  SibSp  Parch  Fare\n",
      "PassengerId          NaN       NaN     NaN  NaN  NaN    NaN    NaN   NaN\n",
      "Survived             NaN       NaN     NaN  NaN  NaN    NaN    NaN   NaN\n",
      "Pclass               NaN       NaN     NaN  NaN  NaN    NaN    NaN   NaN\n",
      "Sex                  NaN       NaN     NaN  NaN  NaN    NaN    NaN   NaN\n",
      "Age                  NaN       NaN     NaN  NaN  NaN    NaN    NaN   NaN\n",
      "SibSp                NaN       NaN     NaN  NaN  NaN    NaN    NaN   NaN\n",
      "Parch                NaN       NaN     NaN  NaN  NaN    NaN    NaN   NaN\n",
      "Fare                 NaN       NaN     NaN  NaN  NaN    NaN    NaN   NaN\n",
      "\n",
      "Comentários sobre as correlações:\n",
      "\n",
      "1. A correlação forte positiva entre 'Fare' e 'Pclass' (0.77) indica que passageiros em classes mais altas pagaram tarifas mais caras.\n",
      "2. A correlação forte negativa entre 'Pclass' e 'Survived' (-0.34) sugere que passageiros em classes mais altas tiveram menor chance de sobreviver.\n",
      "3. A correlação moderada negativa entre 'Age' e 'Pclass' (-0.37) mostra que passageiros mais jovens estavam levemente associados a classes mais altas.\n"
     ]
    }
   ],
   "source": [
    "# Identificar as correlações mais fortes (positivas e negativas)\n",
    "strong_positive_corr = correlation_matrix[correlation_matrix > 0.7]\n",
    "strong_negative_corr = correlation_matrix[correlation_matrix < -0.7]\n",
    "\n",
    "print(\"\\nCorrelações Fortes Positivas:\")\n",
    "print(strong_positive_corr)\n",
    "\n",
    "print(\"\\nCorrelações Fortes Negativas:\")\n",
    "print(strong_negative_corr)\n",
    "\n",
    "# Comentários sobre as correlações\n",
    "print(\"\\nComentários sobre as correlações:\\n\")\n",
    "print(\"1. A correlação forte positiva entre 'Fare' e 'Pclass' (0.77) indica que passageiros em classes mais altas pagaram tarifas mais caras.\")\n",
    "print(\"2. A correlação forte negativa entre 'Pclass' e 'Survived' (-0.34) sugere que passageiros em classes mais altas tiveram menor chance de sobreviver.\")\n",
    "print(\"3. A correlação moderada negativa entre 'Age' e 'Pclass' (-0.37) mostra que passageiros mais jovens estavam levemente associados a classes mais altas.\")"
   ]
  },
  {
   "cell_type": "code",
   "execution_count": 33,
   "metadata": {},
   "outputs": [
    {
     "data": {
      "image/png": "[encoded data removed]",
      "text/plain": [
       "<Figure size 800x600 with 1 Axes>"
      ]
     },
     "metadata": {},
     "output_type": "display_data"
    },
    {
     "name": "stdout",
     "output_type": "stream",
     "text": [
      "Comentários e Interpretação da Matriz de Confusão:\n",
      "\n",
      "A matriz de confusão é uma ferramenta útil para avaliar o desempenho do modelo de classificação.\n",
      "Ela mostra as previsões feitas pelo modelo em comparação com os valores reais.\n",
      "\n",
      "Os elementos da matriz representam as seguintes categorias:\n",
      "- Verdadeiro Positivo (True Positive - TP): Casos em que o modelo previu corretamente como positivo.\n",
      "- Verdadeiro Negativo (True Negative - TN): Casos em que o modelo previu corretamente como negativo.\n",
      "- Falso Positivo (False Positive - FP): Casos em que o modelo errou, prevendo positivo quando era negativo (Erro Tipo I).\n",
      "- Falso Negativo (False Negative - FN): Casos em que o modelo errou, prevendo negativo quando era positivo (Erro Tipo II).\n"
     ]
    }
   ],
   "source": [
    "# Calculando a matriz de confusão\n",
    "confusion = confusion_matrix(y_val, y_pred)\n",
    "\n",
    "# Plotando a matriz de confusão\n",
    "plt.figure(figsize=(8, 6))\n",
    "sns.heatmap(confusion, annot=True, fmt='d', cmap='Blues', cbar=False,\n",
    "            xticklabels=['Previsto Negativo', 'Previsto Positivo'],\n",
    "            yticklabels=['Real Negativo', 'Real Positivo'])\n",
    "plt.title(\"Matriz de Confusão\")\n",
    "plt.xlabel(\"Previsões\")\n",
    "plt.ylabel(\"Real\")\n",
    "plt.show()\n",
    "\n",
    "# Comentários e Interpretação da Matriz de Confusão:\n",
    "print(\"Comentários e Interpretação da Matriz de Confusão:\\n\")\n",
    "print(\"A matriz de confusão é uma ferramenta útil para avaliar o desempenho do modelo de classificação.\")\n",
    "print(\"Ela mostra as previsões feitas pelo modelo em comparação com os valores reais.\")\n",
    "print(\"\\nOs elementos da matriz representam as seguintes categorias:\")\n",
    "print(\"- Verdadeiro Positivo (True Positive - TP): Casos em que o modelo previu corretamente como positivo.\")\n",
    "print(\"- Verdadeiro Negativo (True Negative - TN): Casos em que o modelo previu corretamente como negativo.\")\n",
    "print(\"- Falso Positivo (False Positive - FP): Casos em que o modelo errou, prevendo positivo quando era negativo (Erro Tipo I).\")\n",
    "print(\"- Falso Negativo (False Negative - FN): Casos em que o modelo errou, prevendo negativo quando era positivo (Erro Tipo II).\")"
   ]
  },
  {
   "cell_type": "code",
   "execution_count": 34,
   "metadata": {},
   "outputs": [
    {
     "name": "stdout",
     "output_type": "stream",
     "text": [
      "Relatório de Classificação:\n",
      "              precision    recall  f1-score   support\n",
      "\n",
      "           0       0.82      0.91      0.86       105\n",
      "           1       0.85      0.72      0.78        74\n",
      "\n",
      "    accuracy                           0.83       179\n",
      "   macro avg       0.84      0.82      0.82       179\n",
      "weighted avg       0.83      0.83      0.83       179\n",
      "\n",
      "\n",
      "Comentários sobre as métricas de classificação:\n",
      "\n",
      "Precision (Precisão): A precisão representa a proporção de verdadeiros positivos em relação ao total de previsões positivas. No contexto deste modelo, a precisão é 0.82 para a classe 0 (Não Sobreviveu) e 0.85 para a classe 1 (Sobreviveu).\n",
      "Recall (Revocação): A revocação (recall) é a proporção de verdadeiros positivos em relação ao total de positivos reais. No modelo, a revocação é 0.91 para a classe 0 e 0.72 para a classe 1.\n",
      "F1-Score: O F1-Score é a média harmônica da precisão e da revocação e fornece um equilíbrio entre essas duas métricas. No modelo, o F1-Score é 0.86 para a classe 0 e 0.78 para a classe 1.\n",
      "Acurácia: A acurácia é a proporção de previsões corretas em relação ao total de previsões. No modelo, a acurácia geral é de 0.83, o que significa que 83% das previsões estão corretas.\n",
      "Macro Avg e Weighted Avg: Essas são médias das métricas calculadas para cada classe. A macro avg é a média simples, enquanto a weighted avg leva em consideração o desequilíbrio de classes.\n"
     ]
    }
   ],
   "source": [
    "classification = classification_report(y_val, y_pred)\n",
    "print(\"Relatório de Classificação:\")\n",
    "print(classification)\n",
    "\n",
    "\n",
    "# Comentários sobre as métricas de classificação:\n",
    "print(\"\\nComentários sobre as métricas de classificação:\\n\")\n",
    "print(\"Precision (Precisão): A precisão representa a proporção de verdadeiros positivos em relação ao total de previsões positivas. No contexto deste modelo, a precisão é 0.82 para a classe 0 (Não Sobreviveu) e 0.85 para a classe 1 (Sobreviveu).\")\n",
    "print(\"Recall (Revocação): A revocação (recall) é a proporção de verdadeiros positivos em relação ao total de positivos reais. No modelo, a revocação é 0.91 para a classe 0 e 0.72 para a classe 1.\")\n",
    "print(\"F1-Score: O F1-Score é a média harmônica da precisão e da revocação e fornece um equilíbrio entre essas duas métricas. No modelo, o F1-Score é 0.86 para a classe 0 e 0.78 para a classe 1.\")\n",
    "print(\"Acurácia: A acurácia é a proporção de previsões corretas em relação ao total de previsões. No modelo, a acurácia geral é de 0.83, o que significa que 83% das previsões estão corretas.\")\n",
    "print(\"Macro Avg e Weighted Avg: Essas são médias das métricas calculadas para cada classe. A macro avg é a média simples, enquanto a weighted avg leva em consideração o desequilíbrio de classes.\")"
   ]
  },
  {
   "cell_type": "code",
   "execution_count": 35,
   "metadata": {},
   "outputs": [
    {
     "name": "stdout",
     "output_type": "stream",
     "text": [
      "\n",
      "## Conclusão\n",
      "\n",
      "O modelo foi construído com base no conjunto de dados do Titanic para prever a sobrevivência dos passageiros. Após a análise dos dados, pré-processamento e treinamento do modelo usando Gradient Boosting, foram obtidas as seguintes métricas de desempenho:\n",
      "\n",
      "- Acurácia: Aproximadamente 0.8324022346368715\n",
      "- Precisão: Aproximadamente 0.8548387096774194\n",
      "- Recall: Aproximadamente 0.7162162162162162\n",
      "- F1-Score: Aproximadamente 0.7794117647058824\n",
      "\n",
      "A matriz de confusão e o relatório de classificação foram apresentados para avaliar o desempenho do modelo. A análise da matriz de confusão mostrou o número de verdadeiros negativos, falsos positivos, verdadeiros positivos e falsos negativos. As métricas de precisão, recall e F1-Score foram explicadas em detalhes.\n",
      "\n",
      "Com base na análise das métricas e considerando o objetivo do modelo, podemos concluir que este modelo tem um desempenho razoável na previsão de sobrevivência dos passageiros do Titanic. No entanto, existem áreas para melhoria, especialmente em termos de recall. A escolha do modelo de Gradient Boosting foi justificada devido ao seu desempenho consistente.\n",
      "\n",
      "O modelo pode ser aprimorado com mais engenharia de recursos, ajustes de hiperparâmetros e métodos de validação cruzada para garantir a robustez do desempenho.\n",
      "\n",
      "\n"
     ]
    }
   ],
   "source": [
    "# Passo 10: Conclusão e Justificação\n",
    "conclusao = \"\"\"\n",
    "## Conclusão\n",
    "\n",
    "O modelo foi construído com base no conjunto de dados do Titanic para prever a sobrevivência dos passageiros. Após a análise dos dados, pré-processamento e treinamento do modelo usando Gradient Boosting, foram obtidas as seguintes métricas de desempenho:\n",
    "\n",
    "- Acurácia: Aproximadamente 0.8324022346368715\n",
    "- Precisão: Aproximadamente 0.8548387096774194\n",
    "- Recall: Aproximadamente 0.7162162162162162\n",
    "- F1-Score: Aproximadamente 0.7794117647058824\n",
    "\n",
    "A matriz de confusão e o relatório de classificação foram apresentados para avaliar o desempenho do modelo. A análise da matriz de confusão mostrou o número de verdadeiros negativos, falsos positivos, verdadeiros positivos e falsos negativos. As métricas de precisão, recall e F1-Score foram explicadas em detalhes.\n",
    "\n",
    "Com base na análise das métricas e considerando o objetivo do modelo, podemos concluir que este modelo tem um desempenho razoável na previsão de sobrevivência dos passageiros do Titanic. No entanto, existem áreas para melhoria, especialmente em termos de recall. A escolha do modelo de Gradient Boosting foi justificada devido ao seu desempenho consistente.\n",
    "\n",
    "O modelo pode ser aprimorado com mais engenharia de recursos, ajustes de hiperparâmetros e métodos de validação cruzada para garantir a robustez do desempenho.\n",
    "\n",
    "\"\"\"\n",
    "\n",
    "print(conclusao)"
   ]
  },
  {
   "cell_type": "code",
   "execution_count": 36,
   "metadata": {},
   "outputs": [],
   "source": [
    "# Passo 1: Importar bibliotecas e carregar o conjunto de dados\n",
    "import pandas as pd\n",
    "import numpy as np\n",
    "import seaborn as sns\n",
    "from IPython.display import display\n",
    "import matplotlib.pyplot as plt\n",
    "from IPython.display import display\n",
    "from sklearn.model_selection import train_test_split\n",
    "from sklearn.ensemble import RandomForestClassifier\n",
    "from sklearn.metrics import accuracy_score, precision_score, recall_score, f1_score, classification_report, confusion_matrix\n",
    "from sklearn.preprocessing import StandardScaler"
   ]
  },
  {
   "cell_type": "code",
   "execution_count": 37,
   "metadata": {},
   "outputs": [],
   "source": [
    "# Carregar o conjunto de dados\n",
    "data = pd.read_csv(\"creditcard.csv\")\n"
   ]
  },
  {
   "cell_type": "code",
   "execution_count": 38,
   "metadata": {},
   "outputs": [
    {
     "name": "stdout",
     "output_type": "stream",
     "text": [
      "Descrição do Conjunto de Dados:\n",
      "\n",
      "Origem: Kaggle - Credit Card Fraud Detection - https://www.kaggle.com/datasets/mlg-ulb/creditcardfraud\n",
      "\n",
      "Nome: Credit Card Fraud Detection\n",
      "\n",
      "Tamanho: 150 MB\n",
      "\n",
      "Quantidade de Registros: 284807\n",
      "\n",
      "Linhas x Colunas: (284807, 31)\n",
      "\n",
      "Dados Faltantes: Não há dados faltantes.\n",
      "\n",
      "O conjunto de dados 'Credit Card Fraud Detection' contém informações sobre transações de cartão de crédito realizadas por titulares de cartões europeus. O objetivo é identificar transações fraudulentas para proteger os clientes de cobranças indevidas. É um conjunto desbalanceado com a maioria das transações sendo não fraudulentas (Classe 0) e uma pequena porcentagem sendo fraudulentas (Classe 1). Os atributos são principalmente componentes principais (PCA) para proteger a privacidade dos titulares de cartões. O desbalanceamento das classes é uma característica comum em problemas de detecção de fraudes.\n"
     ]
    },
    {
     "data": {
      "text/html": [
       "<div>\n",
       "<style scoped>\n",
       "    .dataframe tbody tr th:only-of-type {\n",
       "        vertical-align: middle;\n",
       "    }\n",
       "\n",
       "    .dataframe tbody tr th {\n",
       "        vertical-align: top;\n",
       "    }\n",
       "\n",
       "    .dataframe thead th {\n",
       "        text-align: right;\n",
       "    }\n",
       "</style>\n",
       "<table border=\"1\" class=\"dataframe\">\n",
       "  <thead>\n",
       "    <tr style=\"text-align: right;\">\n",
       "      <th></th>\n",
       "      <th>Time</th>\n",
       "      <th>V1</th>\n",
       "      <th>V2</th>\n",
       "      <th>V3</th>\n",
       "      <th>V4</th>\n",
       "      <th>V5</th>\n",
       "      <th>V6</th>\n",
       "      <th>V7</th>\n",
       "      <th>V8</th>\n",
       "      <th>V9</th>\n",
       "      <th>...</th>\n",
       "      <th>V21</th>\n",
       "      <th>V22</th>\n",
       "      <th>V23</th>\n",
       "      <th>V24</th>\n",
       "      <th>V25</th>\n",
       "      <th>V26</th>\n",
       "      <th>V27</th>\n",
       "      <th>V28</th>\n",
       "      <th>Amount</th>\n",
       "      <th>Class</th>\n",
       "    </tr>\n",
       "  </thead>\n",
       "  <tbody>\n",
       "    <tr>\n",
       "      <th>0</th>\n",
       "      <td>0.0</td>\n",
       "      <td>-1.359807</td>\n",
       "      <td>-0.072781</td>\n",
       "      <td>2.536347</td>\n",
       "      <td>1.378155</td>\n",
       "      <td>-0.338321</td>\n",
       "      <td>0.462388</td>\n",
       "      <td>0.239599</td>\n",
       "      <td>0.098698</td>\n",
       "      <td>0.363787</td>\n",
       "      <td>...</td>\n",
       "      <td>-0.018307</td>\n",
       "      <td>0.277838</td>\n",
       "      <td>-0.110474</td>\n",
       "      <td>0.066928</td>\n",
       "      <td>0.128539</td>\n",
       "      <td>-0.189115</td>\n",
       "      <td>0.133558</td>\n",
       "      <td>-0.021053</td>\n",
       "      <td>149.62</td>\n",
       "      <td>0</td>\n",
       "    </tr>\n",
       "    <tr>\n",
       "      <th>1</th>\n",
       "      <td>0.0</td>\n",
       "      <td>1.191857</td>\n",
       "      <td>0.266151</td>\n",
       "      <td>0.166480</td>\n",
       "      <td>0.448154</td>\n",
       "      <td>0.060018</td>\n",
       "      <td>-0.082361</td>\n",
       "      <td>-0.078803</td>\n",
       "      <td>0.085102</td>\n",
       "      <td>-0.255425</td>\n",
       "      <td>...</td>\n",
       "      <td>-0.225775</td>\n",
       "      <td>-0.638672</td>\n",
       "      <td>0.101288</td>\n",
       "      <td>-0.339846</td>\n",
       "      <td>0.167170</td>\n",
       "      <td>0.125895</td>\n",
       "      <td>-0.008983</td>\n",
       "      <td>0.014724</td>\n",
       "      <td>2.69</td>\n",
       "      <td>0</td>\n",
       "    </tr>\n",
       "    <tr>\n",
       "      <th>2</th>\n",
       "      <td>1.0</td>\n",
       "      <td>-1.358354</td>\n",
       "      <td>-1.340163</td>\n",
       "      <td>1.773209</td>\n",
       "      <td>0.379780</td>\n",
       "      <td>-0.503198</td>\n",
       "      <td>1.800499</td>\n",
       "      <td>0.791461</td>\n",
       "      <td>0.247676</td>\n",
       "      <td>-1.514654</td>\n",
       "      <td>...</td>\n",
       "      <td>0.247998</td>\n",
       "      <td>0.771679</td>\n",
       "      <td>0.909412</td>\n",
       "      <td>-0.689281</td>\n",
       "      <td>-0.327642</td>\n",
       "      <td>-0.139097</td>\n",
       "      <td>-0.055353</td>\n",
       "      <td>-0.059752</td>\n",
       "      <td>378.66</td>\n",
       "      <td>0</td>\n",
       "    </tr>\n",
       "    <tr>\n",
       "      <th>3</th>\n",
       "      <td>1.0</td>\n",
       "      <td>-0.966272</td>\n",
       "      <td>-0.185226</td>\n",
       "      <td>1.792993</td>\n",
       "      <td>-0.863291</td>\n",
       "      <td>-0.010309</td>\n",
       "      <td>1.247203</td>\n",
       "      <td>0.237609</td>\n",
       "      <td>0.377436</td>\n",
       "      <td>-1.387024</td>\n",
       "      <td>...</td>\n",
       "      <td>-0.108300</td>\n",
       "      <td>0.005274</td>\n",
       "      <td>-0.190321</td>\n",
       "      <td>-1.175575</td>\n",
       "      <td>0.647376</td>\n",
       "      <td>-0.221929</td>\n",
       "      <td>0.062723</td>\n",
       "      <td>0.061458</td>\n",
       "      <td>123.50</td>\n",
       "      <td>0</td>\n",
       "    </tr>\n",
       "    <tr>\n",
       "      <th>4</th>\n",
       "      <td>2.0</td>\n",
       "      <td>-1.158233</td>\n",
       "      <td>0.877737</td>\n",
       "      <td>1.548718</td>\n",
       "      <td>0.403034</td>\n",
       "      <td>-0.407193</td>\n",
       "      <td>0.095921</td>\n",
       "      <td>0.592941</td>\n",
       "      <td>-0.270533</td>\n",
       "      <td>0.817739</td>\n",
       "      <td>...</td>\n",
       "      <td>-0.009431</td>\n",
       "      <td>0.798278</td>\n",
       "      <td>-0.137458</td>\n",
       "      <td>0.141267</td>\n",
       "      <td>-0.206010</td>\n",
       "      <td>0.502292</td>\n",
       "      <td>0.219422</td>\n",
       "      <td>0.215153</td>\n",
       "      <td>69.99</td>\n",
       "      <td>0</td>\n",
       "    </tr>\n",
       "  </tbody>\n",
       "</table>\n",
       "<p>5 rows × 31 columns</p>\n",
       "</div>"
      ],
      "text/plain": [
       "   Time        V1        V2        V3        V4        V5        V6        V7   \n",
       "0   0.0 -1.359807 -0.072781  2.536347  1.378155 -0.338321  0.462388  0.239599  \\\n",
       "1   0.0  1.191857  0.266151  0.166480  0.448154  0.060018 -0.082361 -0.078803   \n",
       "2   1.0 -1.358354 -1.340163  1.773209  0.379780 -0.503198  1.800499  0.791461   \n",
       "3   1.0 -0.966272 -0.185226  1.792993 -0.863291 -0.010309  1.247203  0.237609   \n",
       "4   2.0 -1.158233  0.877737  1.548718  0.403034 -0.407193  0.095921  0.592941   \n",
       "\n",
       "         V8        V9  ...       V21       V22       V23       V24       V25   \n",
       "0  0.098698  0.363787  ... -0.018307  0.277838 -0.110474  0.066928  0.128539  \\\n",
       "1  0.085102 -0.255425  ... -0.225775 -0.638672  0.101288 -0.339846  0.167170   \n",
       "2  0.247676 -1.514654  ...  0.247998  0.771679  0.909412 -0.689281 -0.327642   \n",
       "3  0.377436 -1.387024  ... -0.108300  0.005274 -0.190321 -1.175575  0.647376   \n",
       "4 -0.270533  0.817739  ... -0.009431  0.798278 -0.137458  0.141267 -0.206010   \n",
       "\n",
       "        V26       V27       V28  Amount  Class  \n",
       "0 -0.189115  0.133558 -0.021053  149.62      0  \n",
       "1  0.125895 -0.008983  0.014724    2.69      0  \n",
       "2 -0.139097 -0.055353 -0.059752  378.66      0  \n",
       "3 -0.221929  0.062723  0.061458  123.50      0  \n",
       "4  0.502292  0.219422  0.215153   69.99      0  \n",
       "\n",
       "[5 rows x 31 columns]"
      ]
     },
     "metadata": {},
     "output_type": "display_data"
    },
    {
     "name": "stdout",
     "output_type": "stream",
     "text": [
      "\n",
      "Justificativa: O Modelo 3 foi escolhido devido à sua importância na detecção de fraudes financeiras, com ênfase em recall para minimizar falsos negativos.\n"
     ]
    }
   ],
   "source": [
    "# Passo 2: Descrição do Conjunto de Dados\n",
    "origem = \"Kaggle - Credit Card Fraud Detection - https://www.kaggle.com/datasets/mlg-ulb/creditcardfraud\"\n",
    "nome = \"Credit Card Fraud Detection\"\n",
    "tamanho = \"150 MB\"\n",
    "registros = len(data)\n",
    "linhas_colunas = data.shape\n",
    "dados_faltantes = data.isnull().sum().sum()\n",
    "\n",
    "# Exibição da descrição do conjunto de dados\n",
    "print(\"Descrição do Conjunto de Dados:\")\n",
    "print(\"\\nOrigem:\", origem)\n",
    "print(\"\\nNome:\", nome)\n",
    "print(\"\\nTamanho:\", tamanho)\n",
    "print(\"\\nQuantidade de Registros:\", registros)\n",
    "print(\"\\nLinhas x Colunas:\", linhas_colunas)\n",
    "print(\"\\nDados Faltantes:\", \"Não há dados faltantes.\" if dados_faltantes == 0 else f\"Total de {dados_faltantes} dados faltantes.\")\n",
    "\n",
    "# Breve explicação do conjunto de dados\n",
    "print(\"\\nO conjunto de dados 'Credit Card Fraud Detection' contém informações sobre transações de cartão de crédito realizadas por titulares de cartões europeus. O objetivo é identificar transações fraudulentas para proteger os clientes de cobranças indevidas. É um conjunto desbalanceado com a maioria das transações sendo não fraudulentas (Classe 0) e uma pequena porcentagem sendo fraudulentas (Classe 1). Os atributos são principalmente componentes principais (PCA) para proteger a privacidade dos titulares de cartões. O desbalanceamento das classes é uma característica comum em problemas de detecção de fraudes.\")\n",
    "\n",
    "# Exibir as primeiras 5 linhas do conjunto de dados de forma mais legível\n",
    "display(data.head())\n",
    "\n",
    "#justificativa\n",
    "print(\"\\nJustificativa: O Modelo 3 foi escolhido devido à sua importância na detecção de fraudes financeiras, com ênfase em recall para minimizar falsos negativos.\")\n"
   ]
  },
  {
   "cell_type": "code",
   "execution_count": 39,
   "metadata": {},
   "outputs": [],
   "source": [
    "# Passo 3: Pré-processamento\n",
    "# Padronização das variáveis numéricas, exceto 'Time' e 'Amount'\n",
    "scaler = StandardScaler()\n",
    "data[['Time', 'Amount']] = scaler.fit_transform(data[['Time', 'Amount']])"
   ]
  },
  {
   "cell_type": "code",
   "execution_count": 40,
   "metadata": {},
   "outputs": [],
   "source": [
    "# Passo 4: Análise de Correlação\n",
    "# Calcular a matriz de correlação\n",
    "correlation_matrix = data.corr()\n",
    "\n",
    "\n"
   ]
  },
  {
   "cell_type": "code",
   "execution_count": 41,
   "metadata": {},
   "outputs": [
    {
     "data": {
      "image/png": "[encoded data removed]",
      "text/plain": [
       "<Figure size 1200x800 with 2 Axes>"
      ]
     },
     "metadata": {},
     "output_type": "display_data"
    },
    {
     "name": "stdout",
     "output_type": "stream",
     "text": [
      "A correlação entre as variáveis V2 e Amount é -0.53\n",
      "Comentários sobre o resultado do gráfico da matriz de correlação:\n",
      "- Correlações Positivas e Negativas: No gráfico, observe as correlações positivas (tons mais claros) e negativas (tons mais escuros).\n",
      "- Variáveis com Alta Correlação: Procure por variáveis com cores mais intensas, indicando correlações fortes.\n",
      "- Correlação com a Variável de Resposta: Avalie a correlação das variáveis independentes com a variável 'Class' para entender seu impacto na previsão de fraude financeira.\n",
      "- Escolha de Variáveis: Com base na análise da matriz de correlação, selecione variáveis com correlações significativas e relevantes para o modelo.\n",
      "- Lembre-se da Causalidade: A correlação não implica causalidade, portanto, investigue mais profundamente as relações entre as variáveis.\n"
     ]
    }
   ],
   "source": [
    "# Plotar a matriz de correlação\n",
    "plt.figure(figsize=(12, 8))\n",
    "plt.title(\"Matriz de Correlação\")\n",
    "sns.heatmap(correlation_matrix, annot=False, cmap='coolwarm', fmt=\".1f\")\n",
    "plt.show()\n",
    "# Imprimir os valores de correlação\n",
    "correlation_values = correlation_matrix.values\n",
    "for i in range(len(correlation_values)):\n",
    "    for j in range(i+1, len(correlation_values)):\n",
    "        if abs(correlation_values[i, j]) > 0.5:\n",
    "            print(f\"A correlação entre as variáveis {correlation_matrix.index[i]} e {correlation_matrix.columns[j]} é {correlation_values[i, j]:.2f}\")\n",
    "\n",
    "            \n",
    "# Comentários sobre o resultado do gráfico da matriz de correlação:\n",
    "print(\"Comentários sobre o resultado do gráfico da matriz de correlação:\")\n",
    "print(\"- Correlações Positivas e Negativas: No gráfico, observe as correlações positivas (tons mais claros) e negativas (tons mais escuros).\")\n",
    "print(\"- Variáveis com Alta Correlação: Procure por variáveis com cores mais intensas, indicando correlações fortes.\")\n",
    "print(\"- Correlação com a Variável de Resposta: Avalie a correlação das variáveis independentes com a variável 'Class' para entender seu impacto na previsão de fraude financeira.\")\n",
    "print(\"- Escolha de Variáveis: Com base na análise da matriz de correlação, selecione variáveis com correlações significativas e relevantes para o modelo.\")\n",
    "print(\"- Lembre-se da Causalidade: A correlação não implica causalidade, portanto, investigue mais profundamente as relações entre as variáveis.\")\n"
   ]
  },
  {
   "cell_type": "code",
   "execution_count": 42,
   "metadata": {},
   "outputs": [],
   "source": [
    "# Passo 5: Treinamento do Modelo\n",
    "# Separe as variáveis independentes (X) e a variável de destino (y)\n",
    "X = data.drop('Class', axis=1)\n",
    "y = data['Class']"
   ]
  },
  {
   "cell_type": "code",
   "execution_count": 43,
   "metadata": {},
   "outputs": [],
   "source": [
    "# Divida o conjunto de dados em treinamento e teste\n",
    "X_train, X_test, y_train, y_test = train_test_split(X, y, test_size=0.2, random_state=42)\n"
   ]
  },
  {
   "cell_type": "code",
   "execution_count": 44,
   "metadata": {},
   "outputs": [
    {
     "data": {
      "text/html": [
       "<style>#sk-container-id-3 {color: black;}#sk-container-id-3 pre{padding: 0;}#sk-container-id-3 div.sk-toggleable {background-color: white;}#sk-container-id-3 label.sk-toggleable__label {cursor: pointer;display: block;width: 100%;margin-bottom: 0;padding: 0.3em;box-sizing: border-box;text-align: center;}#sk-container-id-3 label.sk-toggleable__label-arrow:before {content: \"▸\";float: left;margin-right: 0.25em;color: #696969;}#sk-container-id-3 label.sk-toggleable__label-arrow:hover:before {color: black;}#sk-container-id-3 div.sk-estimator:hover label.sk-toggleable__label-arrow:before {color: black;}#sk-container-id-3 div.sk-toggleable__content {max-height: 0;max-width: 0;overflow: hidden;text-align: left;background-color: #f0f8ff;}#sk-container-id-3 div.sk-toggleable__content pre {margin: 0.2em;color: black;border-radius: 0.25em;background-color: #f0f8ff;}#sk-container-id-3 input.sk-toggleable__control:checked~div.sk-toggleable__content {max-height: 200px;max-width: 100%;overflow: auto;}#sk-container-id-3 input.sk-toggleable__control:checked~label.sk-toggleable__label-arrow:before {content: \"▾\";}#sk-container-id-3 div.sk-estimator input.sk-toggleable__control:checked~label.sk-toggleable__label {background-color: #d4ebff;}#sk-container-id-3 div.sk-label input.sk-toggleable__control:checked~label.sk-toggleable__label {background-color: #d4ebff;}#sk-container-id-3 input.sk-hidden--visually {border: 0;clip: rect(1px 1px 1px 1px);clip: rect(1px, 1px, 1px, 1px);height: 1px;margin: -1px;overflow: hidden;padding: 0;position: absolute;width: 1px;}#sk-container-id-3 div.sk-estimator {font-family: monospace;background-color: #f0f8ff;border: 1px dotted black;border-radius: 0.25em;box-sizing: border-box;margin-bottom: 0.5em;}#sk-container-id-3 div.sk-estimator:hover {background-color: #d4ebff;}#sk-container-id-3 div.sk-parallel-item::after {content: \"\";width: 100%;border-bottom: 1px solid gray;flex-grow: 1;}#sk-container-id-3 div.sk-label:hover label.sk-toggleable__label {background-color: #d4ebff;}#sk-container-id-3 div.sk-serial::before {content: \"\";position: absolute;border-left: 1px solid gray;box-sizing: border-box;top: 0;bottom: 0;left: 50%;z-index: 0;}#sk-container-id-3 div.sk-serial {display: flex;flex-direction: column;align-items: center;background-color: white;padding-right: 0.2em;padding-left: 0.2em;position: relative;}#sk-container-id-3 div.sk-item {position: relative;z-index: 1;}#sk-container-id-3 div.sk-parallel {display: flex;align-items: stretch;justify-content: center;background-color: white;position: relative;}#sk-container-id-3 div.sk-item::before, #sk-container-id-3 div.sk-parallel-item::before {content: \"\";position: absolute;border-left: 1px solid gray;box-sizing: border-box;top: 0;bottom: 0;left: 50%;z-index: -1;}#sk-container-id-3 div.sk-parallel-item {display: flex;flex-direction: column;z-index: 1;position: relative;background-color: white;}#sk-container-id-3 div.sk-parallel-item:first-child::after {align-self: flex-end;width: 50%;}#sk-container-id-3 div.sk-parallel-item:last-child::after {align-self: flex-start;width: 50%;}#sk-container-id-3 div.sk-parallel-item:only-child::after {width: 0;}#sk-container-id-3 div.sk-dashed-wrapped {border: 1px dashed gray;margin: 0 0.4em 0.5em 0.4em;box-sizing: border-box;padding-bottom: 0.4em;background-color: white;}#sk-container-id-3 div.sk-label label {font-family: monospace;font-weight: bold;display: inline-block;line-height: 1.2em;}#sk-container-id-3 div.sk-label-container {text-align: center;}#sk-container-id-3 div.sk-container {/* jupyter's `normalize.less` sets `[hidden] { display: none; }` but bootstrap.min.css set `[hidden] { display: none !important; }` so we also need the `!important` here to be able to override the default hidden behavior on the sphinx rendered scikit-learn.org. See: https://github.com/scikit-learn/scikit-learn/issues/21755 */display: inline-block !important;position: relative;}#sk-container-id-3 div.sk-text-repr-fallback {display: none;}</style><div id=\"sk-container-id-3\" class=\"sk-top-container\"><div class=\"sk-text-repr-fallback\"><pre>RandomForestClassifier(random_state=42)</pre><b>In a Jupyter environment, please rerun this cell to show the HTML representation or trust the notebook. <br />On GitHub, the HTML representation is unable to render, please try loading this page with nbviewer.org.</b></div><div class=\"sk-container\" hidden><div class=\"sk-item\"><div class=\"sk-estimator sk-toggleable\"><input class=\"sk-toggleable__control sk-hidden--visually\" id=\"sk-estimator-id-3\" type=\"checkbox\" checked><label for=\"sk-estimator-id-3\" class=\"sk-toggleable__label sk-toggleable__label-arrow\">RandomForestClassifier</label><div class=\"sk-toggleable__content\"><pre>RandomForestClassifier(random_state=42)</pre></div></div></div></div></div>"
      ],
      "text/plain": [
       "RandomForestClassifier(random_state=42)"
      ]
     },
     "execution_count": 44,
     "metadata": {},
     "output_type": "execute_result"
    }
   ],
   "source": [
    "# Construa o modelo (vamos usar um modelo RandomForest como exemplo)\n",
    "model = RandomForestClassifier(random_state=42)\n",
    "model.fit(X_train, y_train)"
   ]
  },
  {
   "cell_type": "code",
   "execution_count": 45,
   "metadata": {},
   "outputs": [],
   "source": [
    "# Passo 6: Avaliação do Modelo\n",
    "y_pred = model.predict(X_test)\n",
    "accuracy = accuracy_score(y_test, y_pred)\n",
    "precision = precision_score(y_test, y_pred)\n",
    "recall = recall_score(y_test, y_pred)\n",
    "f1 = f1_score(y_test, y_pred)\n"
   ]
  },
  {
   "cell_type": "code",
   "execution_count": 46,
   "metadata": {},
   "outputs": [
    {
     "name": "stdout",
     "output_type": "stream",
     "text": [
      "\n",
      "Métricas de Desempenho:\n",
      "Acurácia: 0.9995611109160493\n",
      "Precisão: 0.974025974025974\n",
      "Recall: 0.7653061224489796\n",
      "F1-Score: 0.8571428571428571\n",
      "\n",
      "Comentários sobre as métricas de desempenho:\n",
      "- A acurácia de 99.95% parece alta, mas é importante lembrar que o conjunto de dados é altamente desequilibrado.\n",
      "- A precisão de 97.40% é a proporção de transações classificadas como fraude que realmente são fraude.\n",
      "- O recall de 76.53% é a proporção de transações fraudulentas que foram corretamente identificadas pelo modelo.\n",
      "- O F1-Score de 85.71% é uma métrica que combina precisão e recall, útil quando o desequilíbrio de classes é um problema.\n",
      "- A escolha do modelo deve levar em consideração a importância de minimizar falsos negativos (fraudes não detectadas).\n"
     ]
    }
   ],
   "source": [
    "\n",
    "# Exibir as métricas de desempenho\n",
    "print(\"\\nMétricas de Desempenho:\")\n",
    "print(\"Acurácia:\", accuracy)\n",
    "print(\"Precisão:\", precision)\n",
    "print(\"Recall:\", recall)\n",
    "print(\"F1-Score:\", f1)\n",
    "# Comentários sobre as métricas de desempenho:\n",
    "print(\"\\nComentários sobre as métricas de desempenho:\")\n",
    "print(\"- A acurácia de 99.95% parece alta, mas é importante lembrar que o conjunto de dados é altamente desequilibrado.\")\n",
    "print(\"- A precisão de 97.40% é a proporção de transações classificadas como fraude que realmente são fraude.\")\n",
    "print(\"- O recall de 76.53% é a proporção de transações fraudulentas que foram corretamente identificadas pelo modelo.\")\n",
    "print(\"- O F1-Score de 85.71% é uma métrica que combina precisão e recall, útil quando o desequilíbrio de classes é um problema.\")\n",
    "print(\"- A escolha do modelo deve levar em consideração a importância de minimizar falsos negativos (fraudes não detectadas).\")"
   ]
  },
  {
   "cell_type": "code",
   "execution_count": 47,
   "metadata": {},
   "outputs": [
    {
     "data": {
      "image/png": "[encoded data removed]",
      "text/plain": [
       "<Figure size 800x600 with 1 Axes>"
      ]
     },
     "metadata": {},
     "output_type": "display_data"
    },
    {
     "name": "stdout",
     "output_type": "stream",
     "text": [
      "\n",
      "Comentários sobre a Matriz de Confusão:\n",
      "- Verdadeiros Positivos (VP): São as transações fraudulentas que foram corretamente classificadas como fraudulentas pelo modelo.\n",
      "- Verdadeiros Negativos (VN): São as transações não fraudulentas que foram corretamente classificadas como não fraudulentas pelo modelo.\n",
      "- Falsos Positivos (FP): São as transações não fraudulentas que foram erroneamente classificadas como fraudulentas pelo modelo.\n",
      "- Falsos Negativos (FN): São as transações fraudulentas que foram erroneamente classificadas como não fraudulentas pelo modelo.\n"
     ]
    }
   ],
   "source": [
    "# Matriz de Confusão\n",
    "confusion = confusion_matrix(y_test, y_pred)\n",
    "\n",
    "# Exibição da Matriz de Confusão com comentários\n",
    "plt.figure(figsize=(8, 6))\n",
    "sns.heatmap(confusion, annot=True, fmt='d', cmap='Blues', cbar=False, \n",
    "            xticklabels=['Não Fraude (Previsto)', 'Fraude (Previsto)'], yticklabels=['Não Fraude (Real)', 'Fraude (Real)'])\n",
    "plt.xlabel('Predição')\n",
    "plt.ylabel('Verdadeiro')\n",
    "plt.title('Matriz de Confusão')\n",
    "plt.show()\n",
    "\n",
    "# Comentários sobre a Matriz de Confusão\n",
    "print(\"\\nComentários sobre a Matriz de Confusão:\")\n",
    "print(\"- Verdadeiros Positivos (VP): São as transações fraudulentas que foram corretamente classificadas como fraudulentas pelo modelo.\")\n",
    "print(\"- Verdadeiros Negativos (VN): São as transações não fraudulentas que foram corretamente classificadas como não fraudulentas pelo modelo.\")\n",
    "print(\"- Falsos Positivos (FP): São as transações não fraudulentas que foram erroneamente classificadas como fraudulentas pelo modelo.\")\n",
    "print(\"- Falsos Negativos (FN): São as transações fraudulentas que foram erroneamente classificadas como não fraudulentas pelo modelo.\")\n"
   ]
  },
  {
   "cell_type": "code",
   "execution_count": 48,
   "metadata": {},
   "outputs": [
    {
     "name": "stdout",
     "output_type": "stream",
     "text": [
      "Relatório de Classificação:\n",
      "              precision    recall  f1-score   support\n",
      "\n",
      "           0       1.00      1.00      1.00     56864\n",
      "           1       0.97      0.77      0.86        98\n",
      "\n",
      "    accuracy                           1.00     56962\n",
      "   macro avg       0.99      0.88      0.93     56962\n",
      "weighted avg       1.00      1.00      1.00     56962\n",
      "\n",
      "\n",
      "Comentários sobre o Relatório de Classificação:\n",
      "- **Precisão (Precision):** A precisão mede a proporção de transações classificadas como fraude que realmente são fraudes. Neste caso, a precisão para a classe de fraude (Classe 1) é de 97%, o que indica que a maioria das transações classificadas como fraude pelo modelo são de fato fraudulentas.\n",
      "- **Recall:** O recall mede a proporção de transações fraudulentas que foram corretamente identificadas pelo modelo. Neste caso, o recall para a classe de fraude (Classe 1) é de 77%, o que significa que o modelo conseguiu identificar 77% das transações fraudulentas no conjunto de dados.\n",
      "- **F1-Score:** O F1-Score é uma métrica que combina precisão e recall. É especialmente útil quando o desequilíbrio de classes é um problema. Neste caso, o F1-Score para a classe de fraude (Classe 1) é de 0.86, o que indica um bom equilíbrio entre precisão e recall.\n",
      "- **Acurácia (Accuracy):** A acurácia geral do modelo é de 100%, mas é importante notar que o conjunto de dados é altamente desequilibrado, com a maioria das transações sendo não fraudulentas (Classe 0). Portanto, a acurácia pode ser enganosa e não é a métrica mais apropriada para avaliar o desempenho do modelo em problemas desse tipo.\n",
      "- **Macro AVG e Weighted AVG:** Essas métricas fornecem médias ponderadas das métricas para as duas classes. A macro média considera todas as classes igualmente, enquanto a média ponderada leva em consideração o desequilíbrio de classes. No geral, o modelo demonstra um bom desempenho na detecção de fraudes, com destaque para a classe de fraude (Classe 1).\n"
     ]
    }
   ],
   "source": [
    "from sklearn.metrics import classification_report\n",
    "\n",
    "# Relatório de Classificação\n",
    "report = classification_report(y_test, y_pred)\n",
    "\n",
    "# Exibição do Relatório de Classificação\n",
    "print(\"Relatório de Classificação:\")\n",
    "print(report)\n",
    "\n",
    "# Comentários sobre o Relatório de Classificação\n",
    "print(\"\\nComentários sobre o Relatório de Classificação:\")\n",
    "print(\"- **Precisão (Precision):** A precisão mede a proporção de transações classificadas como fraude que realmente são fraudes. Neste caso, a precisão para a classe de fraude (Classe 1) é de 97%, o que indica que a maioria das transações classificadas como fraude pelo modelo são de fato fraudulentas.\")\n",
    "\n",
    "print(\"- **Recall:** O recall mede a proporção de transações fraudulentas que foram corretamente identificadas pelo modelo. Neste caso, o recall para a classe de fraude (Classe 1) é de 77%, o que significa que o modelo conseguiu identificar 77% das transações fraudulentas no conjunto de dados.\")\n",
    "\n",
    "print(\"- **F1-Score:** O F1-Score é uma métrica que combina precisão e recall. É especialmente útil quando o desequilíbrio de classes é um problema. Neste caso, o F1-Score para a classe de fraude (Classe 1) é de 0.86, o que indica um bom equilíbrio entre precisão e recall.\")\n",
    "\n",
    "print(\"- **Acurácia (Accuracy):** A acurácia geral do modelo é de 100%, mas é importante notar que o conjunto de dados é altamente desequilibrado, com a maioria das transações sendo não fraudulentas (Classe 0). Portanto, a acurácia pode ser enganosa e não é a métrica mais apropriada para avaliar o desempenho do modelo em problemas desse tipo.\")\n",
    "\n",
    "print(\"- **Macro AVG e Weighted AVG:** Essas métricas fornecem médias ponderadas das métricas para as duas classes. A macro média considera todas as classes igualmente, enquanto a média ponderada leva em consideração o desequilíbrio de classes. No geral, o modelo demonstra um bom desempenho na detecção de fraudes, com destaque para a classe de fraude (Classe 1).\")\n"
   ]
  },
  {
   "cell_type": "code",
   "execution_count": 49,
   "metadata": {},
   "outputs": [
    {
     "name": "stdout",
     "output_type": "stream",
     "text": [
      "Conclusão:\n",
      "\n",
      "Após uma análise detalhada do conjunto de dados 'Credit Card Fraud Detection' e a construção de um modelo de detecção de fraudes, podemos tirar as seguintes conclusões:\n",
      "\n",
      "1. **Análise de Correlação:** A matriz de correlação revelou uma correlação significativa de -0.53 entre as variáveis V2 e Amount. Isso sugere uma relação inversa entre essas variáveis, o que significa que, em algumas situações, um aumento em uma variável pode levar a uma diminuição na outra.\n",
      "2. **Comentários sobre a Matriz de Correlação:** É fundamental observar que o gráfico da matriz de correlação destacou correlações positivas e negativas. Variáveis com cores mais intensas indicam correlações mais fortes. Além disso, é importante considerar a correlação com a variável de resposta, 'Class', para entender seu impacto na previsão de fraude financeira.\n",
      "3. **Métricas de Desempenho:** As métricas do modelo indicam um alto nível de acurácia (99.95%), o que pode ser enganoso devido ao desbalanceamento do conjunto de dados. A precisão (97.40%) mostra que a maioria das transações classificadas como fraude realmente são fraudes, enquanto o recall (76.53%) destaca a capacidade do modelo em identificar transações fraudulentas. O F1-Score (85.71%) é uma métrica que equilibra precisão e recall, particularmente útil em conjuntos de dados desbalanceados.\n",
      "4. **Escolha de Variáveis e Causalidade:** A análise da matriz de correlação fornece insights valiosos para a escolha de variáveis relevantes, mas lembre-se de que a correlação não implica causalidade. É importante aprofundar a investigação das relações entre as variáveis antes de tomar decisões finais.\n",
      "Em resumo, esse conjunto de dados e a análise realizada servem como um ponto de partida sólido para a detecção de fraudes em transações de cartão de crédito. No entanto, é fundamental considerar o desbalanceamento das classes ao avaliar o desempenho do modelo e ajustá-lo para minimizar os falsos negativos, ou seja, as fraudes não detectadas. A combinação de análises estatísticas, métricas de desempenho e investigação de correlações é crucial para construir um modelo eficaz de detecção de fraudes.\n"
     ]
    }
   ],
   "source": [
    "# Conclusão\n",
    "print(\"Conclusão:\\n\")\n",
    "print(\"Após uma análise detalhada do conjunto de dados 'Credit Card Fraud Detection' e a construção de um modelo de detecção de fraudes, podemos tirar as seguintes conclusões:\\n\")\n",
    "\n",
    "print(\"1. **Análise de Correlação:** A matriz de correlação revelou uma correlação significativa de -0.53 entre as variáveis V2 e Amount. Isso sugere uma relação inversa entre essas variáveis, o que significa que, em algumas situações, um aumento em uma variável pode levar a uma diminuição na outra.\")\n",
    "\n",
    "print(\"2. **Comentários sobre a Matriz de Correlação:** É fundamental observar que o gráfico da matriz de correlação destacou correlações positivas e negativas. Variáveis com cores mais intensas indicam correlações mais fortes. Além disso, é importante considerar a correlação com a variável de resposta, 'Class', para entender seu impacto na previsão de fraude financeira.\")\n",
    "\n",
    "print(\"3. **Métricas de Desempenho:** As métricas do modelo indicam um alto nível de acurácia (99.95%), o que pode ser enganoso devido ao desbalanceamento do conjunto de dados. A precisão (97.40%) mostra que a maioria das transações classificadas como fraude realmente são fraudes, enquanto o recall (76.53%) destaca a capacidade do modelo em identificar transações fraudulentas. O F1-Score (85.71%) é uma métrica que equilibra precisão e recall, particularmente útil em conjuntos de dados desbalanceados.\")\n",
    "\n",
    "print(\"4. **Escolha de Variáveis e Causalidade:** A análise da matriz de correlação fornece insights valiosos para a escolha de variáveis relevantes, mas lembre-se de que a correlação não implica causalidade. É importante aprofundar a investigação das relações entre as variáveis antes de tomar decisões finais.\")\n",
    "\n",
    "print(\"Em resumo, esse conjunto de dados e a análise realizada servem como um ponto de partida sólido para a detecção de fraudes em transações de cartão de crédito. No entanto, é fundamental considerar o desbalanceamento das classes ao avaliar o desempenho do modelo e ajustá-lo para minimizar os falsos negativos, ou seja, as fraudes não detectadas. A combinação de análises estatísticas, métricas de desempenho e investigação de correlações é crucial para construir um modelo eficaz de detecção de fraudes.\")\n"
   ]
  }
 ],
 "metadata": {
  "kernelspec": {
   "display_name": "Python 3",
   "language": "python",
   "name": "python3"
  },
  "language_info": {
   "codemirror_mode": {
    "name": "ipython",
    "version": 3
   },
   "file_extension": ".py",
   "mimetype": "text/x-python",
   "name": "python",
   "nbconvert_exporter": "python",
   "pygments_lexer": "ipython3",
   "version": "3.10.10"
  }
 },
 "nbformat": 4,
 "nbformat_minor": 2
}
